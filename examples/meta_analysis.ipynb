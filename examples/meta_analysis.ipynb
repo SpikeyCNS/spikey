{
 "nbformat": 4,
 "nbformat_minor": 2,
 "metadata": {
  "language_info": {
   "name": "python",
   "codemirror_mode": {
    "name": "ipython",
    "version": 3
   },
   "version": "3.7.6-final"
  },
  "orig_nbformat": 2,
  "file_extension": ".py",
  "mimetype": "text/x-python",
  "name": "python",
  "npconvert_exporter": "python",
  "pygments_lexer": "ipython3",
  "version": 3,
  "kernelspec": {
   "name": "python37664bit1466fe8d14ba450eaad73bc0bfdd77c3",
   "display_name": "Python 3.7.6 64-bit"
  }
 },
 "cells": [
  {
   "cell_type": "markdown",
   "metadata": {},
   "source": [
    "## 1-23 Florian Rate XOR"
   ]
  },
  {
   "cell_type": "code",
   "execution_count": null,
   "metadata": {},
   "outputs": [],
   "source": [
    "import json\n",
    "import os\n",
    "import math\n",
    "\n",
    "import numpy as np\n",
    "import pandas as pd\n",
    "\n",
    "import matplotlib.pyplot as plt\n",
    "import seaborn as sns\n",
    "\n",
    "from spikey.logging import MetaReader\n",
    "from spikey.viz import *"
   ]
  },
  {
   "cell_type": "code",
   "execution_count": null,
   "metadata": {},
   "outputs": [],
   "source": [
    "def iter_epoch(dataframe, row_per_epoch):\n",
    "    # Ceil division - 1\n",
    "    for i in range((len(value) - 1) // row_per_epoch + 1 - 1):\n",
    "        yield dataframe[i * row_per_epoch:(i + 1) * row_per_epoch]"
   ]
  },
  {
   "cell_type": "code",
   "execution_count": null,
   "metadata": {},
   "outputs": [],
   "source": [
    "base = os.path.join('log')\n",
    "FOLDERS = os.listdir(base)\n",
    "\n",
    "dataset = {folder: MetaReader(folder=os.path.join(base, folder)) for folder in FOLDERS if os.path.isdir(os.path.join(base, folder))}"
   ]
  },
  {
   "cell_type": "code",
   "execution_count": null,
   "metadata": {},
   "outputs": [],
   "source": [
    "for key, value in dataset.items():\n",
    "    print(f\"{key}: {value.summary}\")"
   ]
  },
  {
   "cell_type": "code",
   "execution_count": null,
   "metadata": {},
   "outputs": [],
   "source": [
    "## Violin plot of accuracies per ep\n",
    "for key, value in dataset.items():\n",
    "    N_AGENTS = value.summary['info']['population_config']['n_agents']\n",
    "    N_REPEATS = value.summary['info']['metagame_info']['n_reruns']\n",
    "\n",
    "    value = value.df\n",
    "\n",
    "    ep_accuracies = []\n",
    "\n",
    "    for i, episode in enumerate(iter_epoch(value, N_AGENTS)):\n",
    "        ep_accuracies.append(np.copy(episode['fitness']))\n",
    "\n",
    "    for i in range(len(ep_accuracies) // 10 - 1):\n",
    "        plt.violinplot(ep_accuracies[i * 10:(i + 1) * 10])\n",
    "        plt.title(f\"Epoch {i * 10}-{(i + 1) * 10}\")\n",
    "        plt.show()"
   ]
  },
  {
   "cell_type": "code",
   "execution_count": null,
   "metadata": {},
   "outputs": [],
   "source": [
    "## Scatter Accuracy & Entropy\n",
    "for key, value in dataset.items():\n",
    "    N_AGENTS = value.summary['info']['population_config']['n_agents']\n",
    "    N_REPEATS = value.summary['info']['metagame_info']['n_reruns']\n",
    "    value = value.df\n",
    "\n",
    "    ep_accuracies = []\n",
    "\n",
    "    X, Y_a = [], []\n",
    "\n",
    "    for i, episode in enumerate(iter_epoch(value, N_AGENTS)):\n",
    "        ep_accuracies.append(np.copy(episode['fitness']))\n",
    "\n",
    "    for percentile in [50, 75, 90, 95, 100]:\n",
    "        for i in range(len(ep_accuracies)):\n",
    "            X.append(i)\n",
    "            Y_a.append(np.percentile(ep_accuracies[i], percentile))\n",
    "\n",
    "        plt.title(f\"{percentile}th percentile of {key}\")\n",
    "        plt.scatter(X, Y_a, label=\"Accuracies\")\n",
    "        plt.legend()\n",
    "        plt.show()"
   ]
  },
  {
   "cell_type": "code",
   "execution_count": null,
   "metadata": {},
   "outputs": [],
   "source": [
    "## Scatter Accuracy & Entropy\n",
    "for key, reader in dataset.items():\n",
    "    df = reader.df\n",
    "\n",
    "    params = df[df['fitness'] == np.max(df['fitness'])]\n",
    "    filenames = df[df['fitness'] == np.max(df['fitness'])]['filename']\n",
    "    \n",
    "    print(np.max(df['fitness']))\n",
    "    for i, filename in enumerate(filenames):\n",
    "        print(params.iloc[i])\n",
    "        #print(reader.read_file(filename)['accuracies'])"
   ]
  },
  {
   "cell_type": "code",
   "execution_count": null,
   "metadata": {},
   "outputs": [],
   "source": []
  }
 ]
}