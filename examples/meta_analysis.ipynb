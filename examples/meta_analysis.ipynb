{
 "nbformat": 4,
 "nbformat_minor": 2,
 "metadata": {
  "language_info": {
   "name": "python",
   "codemirror_mode": {
    "name": "ipython",
    "version": 3
   },
   "version": "3.8.5-final"
  },
  "orig_nbformat": 2,
  "file_extension": ".py",
  "mimetype": "text/x-python",
  "name": "python",
  "npconvert_exporter": "python",
  "pygments_lexer": "ipython3",
  "version": 3,
  "kernelspec": {
   "name": "python37664bit1466fe8d14ba450eaad73bc0bfdd77c3",
   "display_name": "Python 3.7.6 64-bit",
   "language": "python"
  }
 },
 "cells": [
  {
   "cell_type": "markdown",
   "metadata": {},
   "source": [
    "## Meta Analysis\n",
    "\n",
    "A notebook to analyze the results of Population, the genetic algorithm. See examples/run_meta."
   ]
  },
  {
   "cell_type": "code",
   "execution_count": null,
   "metadata": {},
   "outputs": [],
   "source": [
    "import os\n",
    "import numpy as np\n",
    "from spikey.logging import MetaReader\n",
    "import matplotlib.pyplot as plt"
   ]
  },
  {
   "cell_type": "code",
   "execution_count": null,
   "metadata": {},
   "outputs": [],
   "source": [
    "# Folder containing population log files.\n",
    "RESULTS_FOLDER = os.path.join('..', 'log', 'metarl')"
   ]
  },
  {
   "cell_type": "code",
   "execution_count": null,
   "metadata": {},
   "outputs": [],
   "source": [
    "reader = MetaReader(folder=RESULTS_FOLDER)\n",
    "reader.summary"
   ]
  },
  {
   "cell_type": "code",
   "execution_count": null,
   "metadata": {},
   "outputs": [],
   "source": [
    "def iter_epoch(dataframe, row_per_epoch):\n",
    "    # Ceil division - 1\n",
    "    for i in range((len(dataframe) - 1) // row_per_epoch + 1 - 1):\n",
    "        yield dataframe[i * row_per_epoch:(i + 1) * row_per_epoch]"
   ]
  },
  {
   "cell_type": "code",
   "execution_count": null,
   "metadata": {},
   "outputs": [],
   "source": [
    "N_AGENTS = reader.summary['info']['population_config']['n_agents']\n",
    "N_REPEATS = reader.summary['info']['metagame_info']['n_reruns']\n",
    "df = reader.df\n",
    "\n",
    "ep_fitness = []\n",
    "for i, episode in enumerate(iter_epoch(df, N_AGENTS)):\n",
    "    ep_fitness.append(np.copy(episode['fitness']))"
   ]
  },
  {
   "cell_type": "code",
   "execution_count": null,
   "metadata": {},
   "outputs": [],
   "source": [
    "# Agent fitnesses per epoch\n",
    "for i in range(len(ep_fitness) // 10 - 1):\n",
    "    plt.violinplot(ep_fitness[i * 10:(i + 1) * 10])\n",
    "    plt.title(f\"Epoch {i * 10}-{(i + 1) * 10}\")\n",
    "    plt.show()"
   ]
  },
  {
   "cell_type": "code",
   "execution_count": null,
   "metadata": {},
   "outputs": [],
   "source": [
    "# Agent fitness percentiles per epoch\n",
    "for percentile in [50, 75, 95, 100]:\n",
    "    X, Y_a = [], []\n",
    "    for i in range(len(ep_fitness)):\n",
    "        X.append(i)\n",
    "        Y_a.append(np.percentile(ep_fitness[i], percentile))\n",
    "\n",
    "    plt.title(f\"{percentile}th percentile of fitnesses\")\n",
    "    plt.scatter(X, Y_a, label=\"Fitness\")\n",
    "    plt.legend()\n",
    "    plt.show()"
   ]
  },
  {
   "cell_type": "code",
   "execution_count": null,
   "metadata": {},
   "outputs": [],
   "source": [
    "# Genotype(s) with highest fitness\n",
    "df = reader.df\n",
    "params = df[df['fitness'] == np.max(df['fitness'])]\n",
    "filenames = df[df['fitness'] == np.max(df['fitness'])]['filename']\n",
    "\n",
    "print(np.max(df['fitness']))\n",
    "for i, filename in enumerate(filenames):\n",
    "    print(params.iloc[i])"
   ]
  },
  {
   "cell_type": "code",
   "execution_count": null,
   "metadata": {},
   "outputs": [],
   "source": []
  }
 ]
}