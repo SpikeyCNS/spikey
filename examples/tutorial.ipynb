{
 "metadata": {
  "language_info": {
   "codemirror_mode": {
    "name": "ipython",
    "version": 3
   },
   "file_extension": ".py",
   "mimetype": "text/x-python",
   "name": "python",
   "nbconvert_exporter": "python",
   "pygments_lexer": "ipython3",
   "version": "3.7.9-final"
  },
  "orig_nbformat": 2,
  "kernelspec": {
   "name": "python3",
   "display_name": "Python 3",
   "language": "python"
  }
 },
 "nbformat": 4,
 "nbformat_minor": 2,
 "cells": [
  {
   "source": [
    "# Spikey Tutorial\n",
    "\n",
    "A narrow introduction to Spikey with examples.\n",
    "\n",
    "Table of Contents\n",
    "---\n",
    "1. Installation\n",
    "2. Pieces of a Spiking Neural Network\n",
    "3. Creating a Spiking Neural Network\n",
    "4. Games\n",
    "5. Training Loops\n",
    "6. Tracking Signals\n",
    "7. Moving Forward\n",
    "\n",
    "```none\n",
    "----------  -----------  ---------  -----\n",
    "| Neuron |  | Synapse |  | Input |  | ...\n",
    "----------  -----------  ---------  -----\n",
    "       \\         |         /\n",
    "         \\       |       /\n",
    "--------   -------------\n",
    "| Game |   |  Network  |\n",
    "--------   -------------    ------------\n",
    "   |____________/___________| Callback | --> Logger --> Reader\n",
    "   |           /            ------------\n",
    "-----------------\n",
    "| Training Loop |\n",
    "-----------------\n",
    "        |\n",
    "----------------------\n",
    "| Aggregate Analysis |\n",
    "----------------------\n",
    "    ^       |\n",
    "    L_______|\n",
    "```"
   ],
   "cell_type": "markdown",
   "metadata": {}
  },
  {
   "source": [
    "## Installation\n",
    "\n",
    "First open a terminal in the root directory of your cloned Spikey repo.\n",
    "\n",
    "You should see something like,\n",
    "```bash\n",
    ".../username/spikey>\n",
    "```\n",
    "\n",
    "If not change terminals working directory to the spikey repo via,\n",
    "```bash\n",
    "cd <path to your cloned spikey repo>\n",
    "\n",
    "# eg,\n",
    "cd /home/user/spikey\n",
    "```\n",
    "\n",
    "Install all necessary dependencies,\n",
    "```bash\n",
    "pip install -r requirements.txt\n",
    "```\n",
    "\n",
    "Then since Spikey is not yet on pypi, install it locally via\n",
    "```bash\n",
    "pip install -e .\n",
    "```\n",
    "\n",
    "Spikey only needs to be reinstalled if you re-clone the repo or move it."
   ],
   "cell_type": "markdown",
   "metadata": {}
  },
  {
   "cell_type": "code",
   "execution_count": null,
   "metadata": {},
   "outputs": [],
   "source": [
    "# After installation, restart this notebook and this import should work.\n",
    "import spikey"
   ]
  },
  {
   "source": [
    "## Pieces of a spiking neural network\n",
    "\n",
    "Spiking neural networks are complex systems capable of learning in a similar way to the human brain.\n",
    "They are composed of many unique parts: neurons, synapses, ... all of which are individually simple, \n",
    "yet can cooperate to achieve the ability to understand the environment they operate in.\n",
    "This is an emergent process.\n",
    "\n",
    "In this simulator we have individual objects for all spiking network parts.\n",
    "There are multiple pre-built versions of each, but you may template any of them to create your own versions.\n",
    "\n",
    "Luckily the Network object exists within Spikey to manage all of these parts for you, but we will kick of the tutorial by demoing them individually.\n",
    "```\n",
    "Neuron: Standard neuron behavior.\n",
    "Synapse: Synaptic learning rule implementation.\n",
    "Weight: Datastructure to generate and manage network topology, connects individual inputs and neurons together.\n",
    "Input: Neuron without inputs that serve to encode sensory information from the environment.\n",
    "Readout: Function to translate the network's reaction into an action within the environment.\n",
    "Rewarder(RL networks only): Determine how much reward the network deserves for its response.\n",
    "```\n",
    "```none\n",
    "----------  -----------  ---------  -----\n",
    "| Neuron |  | Synapse |  | Input |  | ...\n",
    "----------  -----------  ---------  -----\n",
    "       \\         |         /\n",
    "         \\       |       /\n",
    "           -------------\n",
    "           |  Network  |\n",
    "           -------------\n",
    "```"
   ],
   "cell_type": "markdown",
   "metadata": {}
  },
  {
   "cell_type": "code",
   "execution_count": null,
   "metadata": {},
   "outputs": [],
   "source": [
    "import numpy as np\n",
    "import matplotlib.pyplot as plt\n",
    "from time import time\n",
    "import os\n",
    "from spikey import Key"
   ]
  },
  {
   "cell_type": "code",
   "execution_count": null,
   "metadata": {},
   "outputs": [],
   "source": [
    "# Each piece of the network has many parameters that need to be set.\n",
    "# All parameters and their descriptions are listed in the parts NECESSARY_KEYS.\n",
    "input_type = spikey.input.StaticMap\n",
    "input_type.NECESSARY_KEYS"
   ]
  },
  {
   "cell_type": "code",
   "execution_count": null,
   "metadata": {},
   "outputs": [],
   "source": [
    "# Keys can be configured by a dictionary to be passed into the constructor\n",
    "input_config = {\n",
    "    'n_inputs': 2,\n",
    "    'magnitude': 1,\n",
    "    'firing_steps': -1,\n",
    "    'input_pct_inhibitory': 0,\n",
    "    'mapping': {0: [0, 0], 1: [0, 1], 2: [1, 0], 3: [1, 1]},\n",
    "}\n",
    "input = input_type(**input_config)\n",
    "input.reset()"
   ]
  },
  {
   "cell_type": "code",
   "execution_count": null,
   "metadata": {},
   "outputs": [],
   "source": [
    "# Tell the input about the environment state\n",
    "input.update(1)\n",
    "\n",
    "# Input fire according to state\n",
    "input()"
   ]
  },
  {
   "cell_type": "code",
   "execution_count": null,
   "metadata": {},
   "outputs": [],
   "source": [
    "neuron_type = spikey.neuron.Neuron\n",
    "neuron_type.NECESSARY_KEYS"
   ]
  },
  {
   "cell_type": "code",
   "execution_count": null,
   "metadata": {},
   "outputs": [],
   "source": [
    "# Each part manages the whole set of such pieces, eg the Neuron part may contain 100+ neurons.\n",
    "neuron_config = {\n",
    "    'magnitude': 1.5,\n",
    "    'n_neurons': 4,\n",
    "    'neuron_pct_inhibitory': 0.,\n",
    "    'potential_decay': .25,\n",
    "    'prob_rand_fire': 0.,\n",
    "    'refractory_period': 1,\n",
    "    'resting_mv': 0.,\n",
    "    'firing_threshold': 2.,\n",
    "    'spike_delay': 0,\n",
    "}\n",
    "neuron = neuron_type(**neuron_config)\n",
    "neuron.reset()\n",
    "\n",
    "neuron.potentials"
   ]
  },
  {
   "cell_type": "code",
   "execution_count": null,
   "metadata": {},
   "outputs": [],
   "source": [
    "# Add potentials then see which fire\n",
    "neuron += np.full(neuron_config['n_neurons'],  10)\n",
    "fires = neuron >= neuron_config['firing_threshold']\n",
    "fires"
   ]
  },
  {
   "cell_type": "code",
   "execution_count": null,
   "metadata": {},
   "outputs": [],
   "source": [
    "# Every piece of this simulator can be inhereted and extended or modified according to the user's needs.\n",
    "# Each object contains a base template (eg spikey.weight.template.Weight) that defines bare minimum expected functionality.\n",
    "from spikey.weight.template import Weight\n",
    "\n",
    "class CustomWeight(Weight):\n",
    "    NECESSARY_KEYS = Weight.extend_keys([\n",
    "        Key('matrix', 'np.ma.array[n_inputs+n_neurons, n_neurons] Connections between individual inputs and neurons.', type=np.ndarray)\n",
    "    ])\n",
    "    def __init__(self, **kwargs):\n",
    "        super().__init__(**kwargs)\n",
    "        self._matrix = np.ma.copy(kwargs['matrix'])\n",
    "        assert self._matrix.shape == (self._n_inputs+self._n_neurons, self._n_neurons), \\\n",
    "            \"Incorrect weight shape!\"\n",
    "        self._clip_weights()\n",
    "\n",
    "CustomWeight.NECESSARY_KEYS"
   ]
  },
  {
   "source": [
    "n_inputs = input_config['n_inputs']\n",
    "n_neurons = neuron_config['n_neurons']\n",
    "weight_config = {\n",
    "    \"n_inputs\": n_inputs,\n",
    "    \"n_neurons\": n_neurons,\n",
    "    \"max_weight\": 1,\n",
    "    'matrix': np.ones((n_inputs+n_neurons, n_neurons))\n",
    "}\n",
    "weight = CustomWeight(**weight_config)"
   ],
   "cell_type": "code",
   "metadata": {},
   "execution_count": null,
   "outputs": []
  },
  {
   "cell_type": "code",
   "execution_count": null,
   "metadata": {},
   "outputs": [],
   "source": [
    "# A bare bones spiking network loop\n",
    "N_STEP = 10\n",
    "\n",
    "input.reset()\n",
    "neuron.reset()\n",
    "\n",
    "spike_log = np.empty((N_STEP, n_inputs + n_neurons))\n",
    "for s in range(N_STEP):\n",
    "    input.update(np.random.randint(4))\n",
    "\n",
    "    spikes = np.append(input(), neuron >= neuron_config['firing_threshold'])\n",
    "    neuron.update()\n",
    "\n",
    "    neuron += np.matmul(weight.matrix.T, spikes)\n",
    "\n",
    "    spike_log[s] = spikes\n",
    "\n",
    "plt.imshow(spike_log, cmap='gray')\n",
    "plt.show()"
   ]
  },
  {
   "source": [
    "## Creating a Spiking Neural Network\n",
    "\n",
    "Network is a neat interface for the many pieces that actually make up a spiking neural network.\n",
    "Simply pass it a list of part types with their configurations and it's ready to train.\n",
    "\n",
    "```none\n",
    "----------  -----------  ---------  -----\n",
    "| Neuron |  | Synapse |  | Input |  | ...\n",
    "----------  -----------  ---------  -----\n",
    "       \\         |         /\n",
    "         \\       |       /\n",
    "           -------------\n",
    "           |  Network  |\n",
    "           -------------\n",
    "```"
   ],
   "cell_type": "markdown",
   "metadata": {}
  },
  {
   "cell_type": "code",
   "execution_count": null,
   "metadata": {},
   "outputs": [],
   "source": [
    "# Similar to individual piece's NECESSARY_KEYS, the Network has NECESSARY_PARTS\n",
    "network_type = spikey.network.RLNetwork\n",
    "network_type.NECESSARY_PARTS"
   ]
  },
  {
   "cell_type": "code",
   "execution_count": null,
   "metadata": {},
   "outputs": [],
   "source": [
    "parts = {\n",
    "    'inputs': spikey.input.StaticMap,\n",
    "    'neurons': spikey.neuron.Neuron,\n",
    "    'weights': spikey.weight.Manual,\n",
    "    'synapses': spikey.synapse.RLSTDPET,\n",
    "    'readout': spikey.readout.NeuronRates,\n",
    "    'modifiers': None,\n",
    "    'rewarder': spikey.reward.MatchExpected,\n",
    "}\n",
    "\n",
    "network_type.list_keys(**parts)"
   ]
  },
  {
   "cell_type": "code",
   "execution_count": null,
   "metadata": {},
   "outputs": [],
   "source": [
    "network_config = {\n",
    "    \"n_inputs\": 2,\n",
    "\t\"n_neurons\": 4,\n",
    "\t\"n_outputs\": 4,\n",
    "\t\"processing_time\": 10,\n",
    "\n",
    "\t\"magnitude\": 1,\n",
    "\t\"resting_mv\": 0,\n",
    "\t\"firing_threshold\": 2,\n",
    "\t\"spike_delay\": 0,\n",
    "\t\"refractory_period\": 1,\n",
    "\t\"potential_decay\": .25,\n",
    "\t\"prob_rand_fire\": 0,\n",
    "\t\"neuron_pct_inhibitory\": 0,\n",
    "\n",
    "\t\"learning_rate\": .01,\n",
    "\t\"stdp_window\": 20,\n",
    "\t\"trace_decay\": .25,\n",
    "\t\"max_weight\": 1,\n",
    "\t\"matrix\": np.random.uniform(size=(6, 4)),\n",
    "\t\"inh_weight_mask\": None,\n",
    "\n",
    "\t\"mapping\": type('input_map', (object,), {'__getitem__': lambda s, x: np.array(x)})(),\n",
    "\t\"firing_steps\": -1,\n",
    "\t\"input_pct_inhibitory\": 0,\n",
    "\n",
    "    \"n_pools\": 0,\n",
    "\t\"output_range\": [0, 1],\n",
    "\n",
    "\t\"expected_value\": lambda state: np.sum(state) % 2,\n",
    "}\n",
    "\n",
    "network = network_type(**parts, **network_config)"
   ]
  },
  {
   "cell_type": "code",
   "execution_count": null,
   "metadata": {},
   "outputs": [],
   "source": [
    "# Alternative constructor approach, more readable when sharing to training loops and meta tools. Network template variables config and template parts have lower(lowest) priority than kwargs.\n",
    "class network_template(network_type):\n",
    "    config = network_config\n",
    "    _template_parts = parts\n",
    "\n",
    "network = network_template()"
   ]
  },
  {
   "cell_type": "code",
   "execution_count": null,
   "metadata": {},
   "outputs": [],
   "source": [
    "network.reset()\n",
    "\n",
    "for s in range(10):\n",
    "    output_rates = network.tick(np.random.randint(2, size=2))\n",
    "\n",
    "    print(output_rates)"
   ]
  },
  {
   "source": [
    "## Games\n",
    "\n",
    "A game is the framework for how agents can interact with some environment. Spikey contains two classes of games: RL and MetaRL. RL is for training spiking neural networks and MetaRL is for genetic algorithms.\n",
    "\n",
    "All Spikey games are modelled after OpenAI gym environments, which can be converted to RL or MetaRL objects by the gym wrapper.\n",
    "\n",
    "It is important to use Spikey's pre-built games or build off of a template to ensure compatability with training loops, callbacks and meta analysis tools.\n",
    "\n",
    "```python\n",
    "game_config = {\n",
    "    'n_inputs': 2,\n",
    "    'expected_value': lambda state: np.sum(state) % 2,\n",
    "}\n",
    "game = spikey.RL.Logic(**game_config)\n",
    "\n",
    "state = game.reset()\n",
    "for _ in range(10):\n",
    "    action = network.tick(state)\n",
    "\n",
    "    state, reward, done, info = game.step(action)\n",
    "    print(state, '\\t->', action)\n",
    "    if done:\n",
    "        break\n",
    "```"
   ],
   "cell_type": "markdown",
   "metadata": {}
  },
  {
   "cell_type": "code",
   "execution_count": null,
   "metadata": {},
   "outputs": [],
   "source": [
    "game_type = spikey.RL.Logic\n",
    "game_type.NECESSARY_KEYS"
   ]
  },
  {
   "cell_type": "code",
   "execution_count": null,
   "metadata": {},
   "outputs": [],
   "source": [
    "# Games may have a set of presets in game.PRESETS that set values for each key\n",
    "game_type.PRESETS"
   ]
  },
  {
   "cell_type": "code",
   "execution_count": null,
   "metadata": {},
   "outputs": [],
   "source": [
    "# Initialization using preset only\n",
    "game = game_type(preset='XOR')"
   ]
  },
  {
   "cell_type": "code",
   "execution_count": null,
   "metadata": {},
   "outputs": [],
   "source": [
    "# Are able to use kwargs similar to network, which take precedent over the preset\n",
    "game_config = {\n",
    "    'n_inputs': 2,\n",
    "    'expected_value': lambda state: np.sum(state) % 2,\n",
    "}\n",
    "game = game_type(**game_config)"
   ]
  },
  {
   "cell_type": "code",
   "execution_count": null,
   "metadata": {},
   "outputs": [],
   "source": [
    "# An alternative method, hardcoded game_template.config has lower(lowest) priority than presets and kwargs.\n",
    "class game_template(game_type):\n",
    "    config = game_config\n",
    "\n",
    "game = game_template()\n",
    "_ = game.seed(0)"
   ]
  },
  {
   "cell_type": "code",
   "execution_count": null,
   "metadata": {},
   "outputs": [],
   "source": [
    "state = game.reset()\n",
    "for _ in range(10):\n",
    "    action = network.tick(state)\n",
    "\n",
    "    state, reward, done, info = game.step(action)\n",
    "    print(state, '\\t->', action)\n",
    "    if done:\n",
    "        break"
   ]
  },
  {
   "source": [
    "## Training Loops\n",
    "\n",
    "Spiking neural networks are trained by having them interact with some environment, then giving them feedback based on their performance via some reinforcement or supervision signal.\n",
    "In practice, the code that facilitates this process is called a training loop.\n",
    "By the way Spikey is organized, many distinct experiments can be executed with the exact same training loops.\n",
    "Therefore Spikey provides both pre-built and the ability for users to define their own training loops.\n",
    "\n",
    "A TrainingLoop object exists that users may choose to base their implementations.\n",
    "This handles some generally needed functionality of course, but more importantly it is the interface that all meta analysis tools expect.\n",
    "```none\n",
    "----------  -----------  ---------  -----\n",
    "| Neuron |  | Synapse |  | Input |  | ...\n",
    "----------  -----------  ---------  -----\n",
    "       \\         |         /\n",
    "         \\       |       /\n",
    "--------   -------------\n",
    "| Game |   |  Network  |\n",
    "--------   -------------\n",
    "   |            /\n",
    "   |           /\n",
    "-----------------\n",
    "| Training Loop |\n",
    "-----------------\n",
    "```"
   ],
   "cell_type": "markdown",
   "metadata": {}
  },
  {
   "cell_type": "code",
   "execution_count": null,
   "metadata": {},
   "outputs": [],
   "source": [
    "loop_type = spikey.core.GenericLoop\n",
    "loop_type.NECESSARY_KEYS"
   ]
  },
  {
   "cell_type": "code",
   "execution_count": null,
   "metadata": {},
   "outputs": [],
   "source": [
    "# Using pre-built, distributable training loop\n",
    "experiment_params = {\n",
    "    **network_config,\n",
    "    **parts,\n",
    "    **game_config,\n",
    "    \"n_episodes\": 1,\n",
    "    \"len_episode\": 10,\n",
    "}\n",
    "experiment = loop_type(network_type, game_type, experiment_params)"
   ]
  },
  {
   "cell_type": "code",
   "execution_count": null,
   "metadata": {},
   "outputs": [],
   "source": [
    "# Creating a custom distributable training loop\n",
    "class CustomLoop(spikey.core.TrainingLoop):\n",
    "    NECESSARY_KEYS = spikey.core.TrainingLoop.extend_keys(\n",
    "        {\n",
    "            \"n_episodes\": \"int Number of episodes to run,\",\n",
    "            \"len_episode\": \"int Length of episode.\",\n",
    "        }\n",
    "    )\n",
    "    def __call__(self, **kwargs) -> (object, object, dict, dict):\n",
    "        game = self.game_template(**self.params)\n",
    "        network = self.network_template(game=game, **self.params)\n",
    "\n",
    "        for e in range(self.params[\"n_episodes\"]):\n",
    "            network.reset()\n",
    "            state = game.reset()\n",
    "\n",
    "            for s in range(self.params[\"len_episode\"]):\n",
    "                action = network.tick(state)\n",
    "\n",
    "                state, _, done, __ = game.step(action)\n",
    "\n",
    "                if hasattr(network, 'reward') and callable(getattr(network, 'reward')):\n",
    "                    reward = network.reward(state, action)\n",
    "\n",
    "                if done:\n",
    "                    break\n",
    "\n",
    "        return network, game, {}, {}\n",
    "\n",
    "not_experiment = CustomLoop(network_type, game_type, experiment_params)"
   ]
  },
  {
   "cell_type": "code",
   "execution_count": null,
   "metadata": {},
   "outputs": [],
   "source": [
    "# Fully custom training loop\n",
    "# NOTE: This method not recomended if you intend to use it in any meta analysis tools.\n",
    "game = game_template()\n",
    "network = network_template(game=game)\n",
    "\n",
    "for e in range(experiment_params[\"n_episodes\"]):\n",
    "    network.reset()\n",
    "    state = game.reset()\n",
    "\n",
    "    for s in range(experiment_params[\"len_episode\"]):\n",
    "        action = network.tick(state)\n",
    "\n",
    "        state, _, done, __ = game.step(action)\n",
    "\n",
    "        if hasattr(network, 'reward') and callable(getattr(network, 'reward')):\n",
    "            reward = network.reward(state, action)\n",
    "\n",
    "        print(state, '\\t->', action)\n",
    "\n",
    "        if done:\n",
    "            break"
   ]
  },
  {
   "cell_type": "code",
   "execution_count": null,
   "metadata": {},
   "outputs": [],
   "source": [
    "# Results and info come from callback(below)\n",
    "# Results is data that can be loaded to a table, info is things that require more analysis\n",
    "experiment.reset()\n",
    "network, game, results, info = experiment()\n",
    "\n",
    "print(network)\n",
    "print(game)\n",
    "print(results)"
   ]
  },
  {
   "source": [
    "## Callback\n",
    "\n",
    "When experimenting, it is necessary to document initial conditions and track various signals.\n",
    "In Spikey the Callback fills this need, which are capable of tracking preset as well as user defined signals.\n",
    "Any data gathered by the Callback can be simply used, logged to file and read later by the respective tools.\n",
    "\n",
    "```none\n",
    "--------   -------------\n",
    "| Game |   |  Network  |\n",
    "--------   -------------    ------------\n",
    "   |____________/___________| Callback | --> Logger --> Reader\n",
    "   |           /            ------------\n",
    "-----------------\n",
    "| Training Loop |\n",
    "-----------------\n",
    "```"
   ],
   "cell_type": "markdown",
   "metadata": {}
  },
  {
   "cell_type": "code",
   "execution_count": null,
   "metadata": {},
   "outputs": [],
   "source": [
    "# A standalone callback working on an arbitrary function, demonstrating how it is used by network and game\n",
    "callback = spikey.core.ExperimentCallback()\n",
    "callback.random = lambda *a: None  # Define binding"
   ]
  },
  {
   "cell_type": "code",
   "execution_count": null,
   "metadata": {},
   "outputs": [],
   "source": [
    "## First add some signal trackers that trigger when binding is called in form\n",
    "# callback.track(\n",
    "#       binding_fn_name,\n",
    "#       output location = 'result'/'info',\n",
    "#       name for tracker,\n",
    "#       target in form ['network/game/experiment_params', 'obj1', 'obj2', 'var_name'] or ['arg_#'],\n",
    "#       method = 'list'/'scalar,       \n",
    "# )\n",
    "\n",
    "# Callback update a scalar variable in results dictionary whenever binding called\n",
    "callback.track(\"random\", \"results\", \"demo_1\", ['arg_0'], \"scalar\")\n",
    "\n",
    "# Callback append to list in info dictionary whenever binding called\n",
    "callback.track(\"random\", \"info\", \"demo_2\", ['arg_0'], \"list\")"
   ]
  },
  {
   "cell_type": "code",
   "execution_count": null,
   "metadata": {},
   "outputs": [],
   "source": [
    "callback.reset()\n",
    "\n",
    "def random(arg1):\n",
    "    callback.random(arg1)"
   ]
  },
  {
   "cell_type": "code",
   "execution_count": null,
   "metadata": {},
   "outputs": [],
   "source": [
    "random(0)\n",
    "\n",
    "print(f\"demo_1: {callback.results['demo_1']}, demo_2: {callback.info['demo_2']}\")"
   ]
  },
  {
   "cell_type": "code",
   "execution_count": null,
   "metadata": {},
   "outputs": [],
   "source": [
    "callback.reset()\n",
    "print(f\"demo_1: {callback.results['demo_1']}, demo_2: {callback.info['demo_2']}\")\n",
    "\n",
    "for i in range(5):\n",
    "    random(i)\n",
    "\n",
    "print(f\"demo_1: {callback.results['demo_1']}, demo_2: {callback.info['demo_2']}\")"
   ]
  },
  {
   "cell_type": "code",
   "execution_count": null,
   "metadata": {},
   "outputs": [],
   "source": [
    "# Further callback custom tracking\n",
    "# RLCallback contains many preset trackers\n",
    "callback = spikey.core.RLCallback()\n",
    "\n",
    "# Object member variable\n",
    "callback.track(\"network_init\", \"info\", \"weights_original\", [\"network\", \"synapses\", \"weights\", \"matrix\"], \"scalar\")\n",
    "callback.track(\"training_end\", \"results\", \"len_episode\", [\"experiment_params\", \"len_episode\"], \"scalar\")\n",
    "\n",
    "# Function argument\n",
    "callback.track(\"network_reward\", \"info\", \"step_rewards\", [\"arg_2\"], \"list\")\n",
    "\n",
    "# Arbitrary function\n",
    "callback.track(\"network_init\", \"info\", \"start_time\", time, \"scalar\")"
   ]
  },
  {
   "cell_type": "code",
   "execution_count": null,
   "metadata": {},
   "outputs": [],
   "source": [
    "experiment_params = {\n",
    "    **network_config,\n",
    "    **parts,\n",
    "    **game_config,\n",
    "    \"n_episodes\": 1,\n",
    "    \"len_episode\": 10,\n",
    "}\n",
    "experiment = loop_type(network_type, game_type, experiment_params)"
   ]
  },
  {
   "cell_type": "code",
   "execution_count": null,
   "metadata": {},
   "outputs": [],
   "source": [
    "# Log from tl and base\n",
    "# This will save to a json file with members\n",
    "# network: All network parts and serializable(json safe) parameters\n",
    "# game: All game serializable(json safe) parameters.\n",
    "# results: Any results that can be directly read into a table, typically from a callback\n",
    "# info: Any other data relevant for analysis, typcially from a callback\n",
    "filename = 'tutorial_log.json'\n",
    "\n",
    "experiment.reset()\n",
    "network, game, results, info = experiment(callback=callback)\n",
    "\n",
    "callback.log(filename=filename)\n",
    "# alternatively, spikey.logging.log(network, game, results, info, filename=filename)"
   ]
  },
  {
   "cell_type": "code",
   "execution_count": null,
   "metadata": {},
   "outputs": [],
   "source": [
    "# Reader usage\n",
    "reader = spikey.logging.Reader('.', [filename])\n",
    "\n",
    "# For all items in network, game, result\n",
    "reader.df"
   ]
  },
  {
   "cell_type": "code",
   "execution_count": null,
   "metadata": {},
   "outputs": [],
   "source": [
    "# For specific items in any section\n",
    "# [file1_results, file2_results, ...]\n",
    "reader['weights_final']"
   ]
  },
  {
   "source": [
    "## Moving Forward\n",
    "\n",
    "Along with the core SNN framework and training platform, Spikey contains meta analysis tools(eg genetic algorithm), a small vizualization set and pre-configured experiments in examples/ and `spikey.experiments`.\n",
    "\n",
    "Compared to deep neural networks, spiking neural networks are much closer to complex, dynamical systems than statistical tools. Interestingly they have the natural ability to reason about temporal information like series of events playing out over time. Internally they are able to encode information not only by the magnitudes of neuron fires but also into firing rates and temporal patterns! These attributes make SNNs ideal models for reinforcement learning, control tasks and more!\n",
    "\n",
    "Please share any difficulties or suggestions with Spikey or your spiking network related research in our issue tab so that we can help.\n",
    "\n",
    "Further introduction to SNNs,\n",
    "\n",
    "* [Paugam-Moisy H., Bohte S.(2012) Computing with Spiking Neuron Networks. In: Rozenberg G., Bäck T., Kok J.N. (eds) Handbook of Natural Computing. Springer, Berlin, Heidelberg. https://doi.org/10.1007/978-3-540-92910-9_10](https://homepages.cwi.nl/~sbohte/publication/paugam_moisy_bohte_SNNChapter.pdf)\n",
    "\n",
    "* [A. Grüning, S. Bohté(2014) Spiking Neural Networks: Principles and Challenges. ESAN.](https://www.elen.ucl.ac.be/Proceedings/esann/esannpdf/es2014-13.pdf)\n",
    "\n",
    "* [What is a Spiking Neural Network? Spikey.](https://github.com/SpikeyCNS/spikey#spiking-neural-networks)\n",
    "\n",
    "Some SNN applications,\n",
    "\n",
    "* [Michael A. Farries and Adrienne L. Fairhall(2007)\n",
    "Reinforcement Learning With Modulated Spike Timing–Dependent Synaptic Plasticity.\n",
    "Journal of Neurophysiology 2007 98:6, 3648-3665.](https://journals.physiology.org/doi/pdf/10.1152/jn.00364.2007)\n",
    "\n",
    "* [Florian R(2007) Reinforcement Learning Through Modulation of\n",
    "Spike-Timing-Dependent Synaptic Plasticity. Neural Computation 19(6).\n",
    "https://doi.org/10.1162/neco.2007.19.6.1468](https://www.florian.io/papers/2007_Florian_Modulated_STDP.pdf)\n",
    "\n",
    "* [Stephen Chung and Robert Kozma(2020) Reinforcement Learning with Feedback-modulated TD-STDP. arXiv 2008.13044.](https://arxiv.org/abs/2008.13044)"
   ],
   "cell_type": "markdown",
   "metadata": {}
  }
 ]
}