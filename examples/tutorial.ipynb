{
 "metadata": {
  "language_info": {
   "codemirror_mode": {
    "name": "ipython",
    "version": 3
   },
   "file_extension": ".py",
   "mimetype": "text/x-python",
   "name": "python",
   "nbconvert_exporter": "python",
   "pygments_lexer": "ipython3",
   "version": "3.8.5-final"
  },
  "orig_nbformat": 2,
  "kernelspec": {
   "name": "python3",
   "display_name": "Python 3",
   "language": "python"
  }
 },
 "nbformat": 4,
 "nbformat_minor": 2,
 "cells": [
  {
   "source": [
    "# Spikey Tutorial\n",
    "\n",
    "A narrow introduction to spikey with examples.\n",
    "\n",
    "Table of Contents\n",
    "---\n",
    "1. Installation\n",
    "2. Pieces of a Spiking Neural Network\n",
    "3. Creating a Spiking Neural Network\n",
    "4. Games\n",
    "5. Training Loops\n",
    "6. Gathering and working with results\n",
    "\n",
    "```none\n",
    "----------  -----------  ---------  -----\n",
    "| Neuron |  | Synapse |  | Input |  | ...\n",
    "----------  -----------  ---------  -----\n",
    "       \\         |         /\n",
    "         \\       |       /\n",
    "--------   -------------\n",
    "| Game |   |  Network  |\n",
    "--------   -------------    ------------\n",
    "   |____________/___________| Callback | --> Logger --> Reader\n",
    "   |           /            ------------\n",
    "-----------------\n",
    "| Training Loop |\n",
    "-----------------\n",
    "        |\n",
    "----------------------\n",
    "| Aggregate Analysis |\n",
    "----------------------\n",
    "    ^       |\n",
    "    L_______|\n",
    "```"
   ],
   "cell_type": "markdown",
   "metadata": {}
  },
  {
   "source": [
    "## Installation\n",
    "\n",
    "First open a terminal in the root directory of your cloned Spikey repo.\n",
    "\n",
    "You should see something like,\n",
    "```bash\n",
    ".../username/spikey>\n",
    "```\n",
    "\n",
    "Install all necessary dependencies,\n",
    "```bash\n",
    "pip install -r requirements.txt\n",
    "```\n",
    "\n",
    "Then since Spikey is not yet on pypi, install it locally via\n",
    "```bash\n",
    "pip install -e .\n",
    "```\n",
    "\n",
    "Spikey only needs to be reinstalled if you re-clone the repo or move it."
   ],
   "cell_type": "markdown",
   "metadata": {}
  },
  {
   "cell_type": "code",
   "execution_count": 1,
   "metadata": {},
   "outputs": [],
   "source": [
    "# After installation, restart this notebook and this import should work.\n",
    "import spikey"
   ]
  },
  {
   "source": [
    "## Pieces of a spiking neural network\n",
    "\n",
    "Spiking neural networks are complex systems capable of learning in a similar way to the human brain.\n",
    "These are systems of many unique parts: neurons, synapses, ... all of which are individually very simple, yet are able to cooperate and achieve the ability to understand the environment they are trained on. This is an emergent process. \n",
    "\n",
    "By default, this simulator expects a spiking neural network to consist of one of each of the following pieces,\n",
    "```\n",
    "Neuron: Neuron behavior.\n",
    "Synapse: Learning rule implementation.\n",
    "Weight: Datastructure to generate and manage the topology of the network. Connects individual inputs and neurons to eachother.\n",
    "Input: Neurons with no incoming synapses and custom behaviors. Serve to encode sensory information from the environment to the network.\n",
    "Readout: Function to translate output neuron's spike trains into actions.\n",
    "Rewarder(ony for RL tools): Determines how much reward the network deserves for taking an action in a specific state.\n",
    "```\n",
    "```none\n",
    "----------  -----------  ---------  -----\n",
    "| Neuron |  | Synapse |  | Input |  | ...\n",
    "----------  -----------  ---------  -----\n",
    "       \\         |         /\n",
    "         \\       |       /\n",
    "           -------------\n",
    "           |  Network  |\n",
    "           -------------\n",
    "```"
   ],
   "cell_type": "markdown",
   "metadata": {}
  },
  {
   "cell_type": "code",
   "execution_count": 2,
   "metadata": {},
   "outputs": [],
   "source": [
    "import numpy as np\n",
    "import matplotlib.pyplot as plt\n",
    "from time import time\n",
    "import os"
   ]
  },
  {
   "cell_type": "code",
   "execution_count": 3,
   "metadata": {},
   "outputs": [
    {
     "output_type": "execute_result",
     "data": {
      "text/plain": [
       "{'n_inputs': 'int Number of inputs.',\n",
       " 'magnitude': 'float Multiplier to each 0, 1 spike value.',\n",
       " 'firing_steps': 'int Number of network steps to fire for, -1 if all.',\n",
       " 'input_pct_inhibitory': 'float Pct of inputs that are inhibitory',\n",
       " 'mapping': 'dict[tuple]->ndarray[processing_time, n_inputs, dtype=bool] State to fires mapping..'}"
      ]
     },
     "metadata": {},
     "execution_count": 3
    }
   ],
   "source": [
    "# Each piece of the network has many parameters that need to be set.\n",
    "# All parameters and their descriptions are listed in the parts NECESSARY_KEYS.\n",
    "input_type = spikey.input.StaticMap\n",
    "input_type.NECESSARY_KEYS"
   ]
  },
  {
   "cell_type": "code",
   "execution_count": 4,
   "metadata": {},
   "outputs": [],
   "source": [
    "input_config = {\n",
    "    'n_inputs': 2,\n",
    "    'magnitude': 1,\n",
    "    'firing_steps': -1,\n",
    "    'input_pct_inhibitory': 0,\n",
    "    'mapping': {0: [0, 0], 1: [0, 1], 2: [1, 0], 3: [1, 1]},\n",
    "}\n",
    "input = input_type(**input_config)\n",
    "input.reset()"
   ]
  },
  {
   "cell_type": "code",
   "execution_count": 5,
   "metadata": {},
   "outputs": [
    {
     "output_type": "execute_result",
     "data": {
      "text/plain": [
       "array([0, 1])"
      ]
     },
     "metadata": {},
     "execution_count": 5
    }
   ],
   "source": [
    "# Tell the input about the environment state\n",
    "input.update(1)\n",
    "\n",
    "# Input fire according to state\n",
    "input()"
   ]
  },
  {
   "cell_type": "code",
   "execution_count": 6,
   "metadata": {},
   "outputs": [
    {
     "output_type": "execute_result",
     "data": {
      "text/plain": [
       "{'magnitude': 'float Magnitude of spike.',\n",
       " 'n_neurons': 'int Number of neurons in the network.',\n",
       " 'neuron_pct_inhibitory': 'float [0, 1] Percentage of inhibitory neurons.',\n",
       " 'potential_decay': 'float[0, 1] Percentage voltage loss on each tick.',\n",
       " 'prob_rand_fire': 'float [0, 1] Probability each neuron will randomly fire',\n",
       " 'refractory_period': 'int Amount of time after spike neuron cannot fire.',\n",
       " 'resting_mv': 'float Neuron resting voltage.',\n",
       " 'spike_delay': 'int[0, 10] Units of time after hitting threshold to fire.'}"
      ]
     },
     "metadata": {},
     "execution_count": 6
    }
   ],
   "source": [
    "neuron_type = spikey.neuron.Neuron\n",
    "neuron_type.NECESSARY_KEYS"
   ]
  },
  {
   "cell_type": "code",
   "execution_count": 7,
   "metadata": {},
   "outputs": [
    {
     "output_type": "execute_result",
     "data": {
      "text/plain": [
       "array([0., 0., 0., 0.], dtype=float16)"
      ]
     },
     "metadata": {},
     "execution_count": 7
    }
   ],
   "source": [
    "# Each piece manages the whole set of such pieces, eg the Neuron part may contain 100+ neurons.\n",
    "neuron_config = {\n",
    "    'magnitude': 1.5,\n",
    "    'n_neurons': 4,\n",
    "    'neuron_pct_inhibitory': 0.,\n",
    "    'potential_decay': .25,\n",
    "    'prob_rand_fire': 0.,\n",
    "    'refractory_period': 1,\n",
    "    'resting_mv': 0.,\n",
    "    'firing_threshold': 2.,\n",
    "    'spike_delay': 0,\n",
    "}\n",
    "neuron = neuron_type(**neuron_config)\n",
    "neuron.reset()\n",
    "\n",
    "neuron.potentials"
   ]
  },
  {
   "cell_type": "code",
   "execution_count": 8,
   "metadata": {},
   "outputs": [
    {
     "output_type": "execute_result",
     "data": {
      "text/plain": [
       "array([1.5, 1.5, 1.5, 1.5])"
      ]
     },
     "metadata": {},
     "execution_count": 8
    }
   ],
   "source": [
    "neuron += np.full(neuron_config['n_neurons'],  10)\n",
    "fires = neuron >= neuron_config['firing_threshold']\n",
    "fires"
   ]
  },
  {
   "cell_type": "code",
   "execution_count": 9,
   "metadata": {},
   "outputs": [
    {
     "output_type": "execute_result",
     "data": {
      "text/plain": [
       "{'n_inputs': 'int Number of inputs.',\n",
       " 'n_neurons': 'int Number of neurons in network.',\n",
       " 'max_weight': 'float Max synapse weight.',\n",
       " 'matrix': 'np.ma.array[n_inputs+n_neurons, n_neurons] Connections between individual inputs and neurons.'}"
      ]
     },
     "metadata": {},
     "execution_count": 9
    }
   ],
   "source": [
    "# Every piece of this simulator can be inhereted and extended or modified according to the user's needs.\n",
    "# Each object contains a base template (eg spikey.weight.template.Weight) that defines bare minimum expected functionality.\n",
    "from spikey.weight.template import Weight\n",
    "\n",
    "class CustomWeight(Weight):\n",
    "    NECESSARY_KEYS = Weight.extend_keys({\n",
    "        'matrix': 'np.ma.array[n_inputs+n_neurons, n_neurons] Connections between individual inputs and neurons.'\n",
    "    })\n",
    "    def __init__(self, **kwargs):\n",
    "        super().__init__(**kwargs)\n",
    "        self._matrix = np.ma.copy(kwargs['matrix'])\n",
    "        assert self._matrix.shape == (self._n_inputs+self._n_neurons, self._n_neurons), \\\n",
    "            \"Incorrect weight shape!\"\n",
    "        self._clip_weights()\n",
    "\n",
    "CustomWeight.NECESSARY_KEYS"
   ]
  },
  {
   "source": [
    "n_inputs = input_config['n_inputs']\n",
    "n_neurons = neuron_config['n_neurons']\n",
    "weight_config = {\n",
    "    \"n_inputs\": n_inputs,\n",
    "    \"n_neurons\": n_neurons,\n",
    "    \"max_weight\": 1,\n",
    "    'matrix': np.ones((n_inputs+n_neurons, n_neurons))\n",
    "}\n",
    "weight = CustomWeight(**weight_config)"
   ],
   "cell_type": "code",
   "metadata": {},
   "execution_count": 10,
   "outputs": []
  },
  {
   "cell_type": "code",
   "execution_count": 11,
   "metadata": {},
   "outputs": [
    {
     "output_type": "display_data",
     "data": {
      "text/plain": "<Figure size 432x288 with 1 Axes>",
      "image/svg+xml": "<?xml version=\"1.0\" encoding=\"utf-8\" standalone=\"no\"?>\r\n<!DOCTYPE svg PUBLIC \"-//W3C//DTD SVG 1.1//EN\"\r\n  \"http://www.w3.org/Graphics/SVG/1.1/DTD/svg11.dtd\">\r\n<!-- Created with matplotlib (https://matplotlib.org/) -->\r\n<svg height=\"248.518125pt\" version=\"1.1\" viewBox=\"0 0 158.2265 248.518125\" width=\"158.2265pt\" xmlns=\"http://www.w3.org/2000/svg\" xmlns:xlink=\"http://www.w3.org/1999/xlink\">\r\n <metadata>\r\n  <rdf:RDF xmlns:cc=\"http://creativecommons.org/ns#\" xmlns:dc=\"http://purl.org/dc/elements/1.1/\" xmlns:rdf=\"http://www.w3.org/1999/02/22-rdf-syntax-ns#\">\r\n   <cc:Work>\r\n    <dc:type rdf:resource=\"http://purl.org/dc/dcmitype/StillImage\"/>\r\n    <dc:date>2021-02-09T20:09:01.733647</dc:date>\r\n    <dc:format>image/svg+xml</dc:format>\r\n    <dc:creator>\r\n     <cc:Agent>\r\n      <dc:title>Matplotlib v3.3.2, https://matplotlib.org/</dc:title>\r\n     </cc:Agent>\r\n    </dc:creator>\r\n   </cc:Work>\r\n  </rdf:RDF>\r\n </metadata>\r\n <defs>\r\n  <style type=\"text/css\">*{stroke-linecap:butt;stroke-linejoin:round;}</style>\r\n </defs>\r\n <g id=\"figure_1\">\r\n  <g id=\"patch_1\">\r\n   <path d=\"M 0 248.518125 \r\nL 158.2265 248.518125 \r\nL 158.2265 0 \r\nL 0 0 \r\nz\r\n\" style=\"fill:none;\"/>\r\n  </g>\r\n  <g id=\"axes_1\">\r\n   <g id=\"patch_2\">\r\n    <path d=\"M 20.5625 224.64 \r\nL 151.0265 224.64 \r\nL 151.0265 7.2 \r\nL 20.5625 7.2 \r\nz\r\n\" style=\"fill:#ffffff;\"/>\r\n   </g>\r\n   <g clip-path=\"url(#p1f0ae2ed9e)\">\r\n    <image height=\"218\" id=\"image6cf732af88\" transform=\"scale(1 -1)translate(0 -218)\" width=\"131\" x=\"20.5625\" xlink:href=\"data:image/png;base64,\r\niVBORw0KGgoAAAANSUhEUgAAAIMAAADaCAYAAACFHPFZAAACIElEQVR4nO3cMY6EQAwAwZkTX4RH8kkua226AZoFVT3ActBy6DnGuAaMMf5WL8DvEAMRAxEDEQMRAxEDEQMRAxEDEQMRAxEDEQMRAxEDEQMRAxEDEQMRA9nO81y9w1f2fV+9wmu5DEQMRAxEDEQMRAxEDEQMRAxEDEQMRAxEDEQMRAxEDEQMRAxEDEQMRAxkW73At+acq1d4LZeBiIGIgYiBiIGIgYiBiIGIgYiBiIGIgYiBiIGIgYiBiIGIgYiBiIFsx3HcMvhpb4hxGfggBiIGIgYiBiIGIgYiBiIGIgYiBiIGIgYiBiIGIgYiBiIGIgYiBiIGMscY1+ol+A0uAxEDEQMRAxEDEQMRAxEDEQMRAxEDEQMRAxEDEQMRAxEDEQMRAxEDEQPZ7hp81+/ou35d4zLwQQxEDEQMRAxEDEQMRAxEDEQMRAxEDEQMRAxEDEQMRAxEDEQMRAxEDMTvaOIyEDEQMRAxEDEQMRAxEDEQMRAxEDEQMRAxEDEQMRAxEDEQMRAxEDEQMRC/o4nLQMRAxEDEQMRAxEDEQMRAxEDEQMRAxEDEQMRAxEDEQMRAxEDEQMRAHvcu+Loete6juAxEDEQMRAxEDEQMRAxEDEQMRAxEDEQMRAxEDEQMRAxEDEQMRAxEDEQMZLvrre9d5pyrV3gtl4GIgYiBiIGIgYiBiIGIgYiBiIGIgYiBiIGIgYiBiIGIgYiBiIGIgYiB/ANZgha3bdl6EAAAAABJRU5ErkJggg==\" y=\"-6.64\"/>\r\n   </g>\r\n   <g id=\"matplotlib.axis_1\">\r\n    <g id=\"xtick_1\">\r\n     <g id=\"line2d_1\">\r\n      <defs>\r\n       <path d=\"M 0 0 \r\nL 0 3.5 \r\n\" id=\"mc2951f681d\" style=\"stroke:#000000;stroke-width:0.8;\"/>\r\n      </defs>\r\n      <g>\r\n       <use style=\"stroke:#000000;stroke-width:0.8;\" x=\"31.4345\" xlink:href=\"#mc2951f681d\" y=\"224.64\"/>\r\n      </g>\r\n     </g>\r\n     <g id=\"text_1\">\r\n      <!-- 0 -->\r\n      <g transform=\"translate(28.25325 239.238437)scale(0.1 -0.1)\">\r\n       <defs>\r\n        <path d=\"M 31.78125 66.40625 \r\nQ 24.171875 66.40625 20.328125 58.90625 \r\nQ 16.5 51.421875 16.5 36.375 \r\nQ 16.5 21.390625 20.328125 13.890625 \r\nQ 24.171875 6.390625 31.78125 6.390625 \r\nQ 39.453125 6.390625 43.28125 13.890625 \r\nQ 47.125 21.390625 47.125 36.375 \r\nQ 47.125 51.421875 43.28125 58.90625 \r\nQ 39.453125 66.40625 31.78125 66.40625 \r\nz\r\nM 31.78125 74.21875 \r\nQ 44.046875 74.21875 50.515625 64.515625 \r\nQ 56.984375 54.828125 56.984375 36.375 \r\nQ 56.984375 17.96875 50.515625 8.265625 \r\nQ 44.046875 -1.421875 31.78125 -1.421875 \r\nQ 19.53125 -1.421875 13.0625 8.265625 \r\nQ 6.59375 17.96875 6.59375 36.375 \r\nQ 6.59375 54.828125 13.0625 64.515625 \r\nQ 19.53125 74.21875 31.78125 74.21875 \r\nz\r\n\" id=\"DejaVuSans-48\"/>\r\n       </defs>\r\n       <use xlink:href=\"#DejaVuSans-48\"/>\r\n      </g>\r\n     </g>\r\n    </g>\r\n    <g id=\"xtick_2\">\r\n     <g id=\"line2d_2\">\r\n      <g>\r\n       <use style=\"stroke:#000000;stroke-width:0.8;\" x=\"74.9225\" xlink:href=\"#mc2951f681d\" y=\"224.64\"/>\r\n      </g>\r\n     </g>\r\n     <g id=\"text_2\">\r\n      <!-- 2 -->\r\n      <g transform=\"translate(71.74125 239.238437)scale(0.1 -0.1)\">\r\n       <defs>\r\n        <path d=\"M 19.1875 8.296875 \r\nL 53.609375 8.296875 \r\nL 53.609375 0 \r\nL 7.328125 0 \r\nL 7.328125 8.296875 \r\nQ 12.9375 14.109375 22.625 23.890625 \r\nQ 32.328125 33.6875 34.8125 36.53125 \r\nQ 39.546875 41.84375 41.421875 45.53125 \r\nQ 43.3125 49.21875 43.3125 52.78125 \r\nQ 43.3125 58.59375 39.234375 62.25 \r\nQ 35.15625 65.921875 28.609375 65.921875 \r\nQ 23.96875 65.921875 18.8125 64.3125 \r\nQ 13.671875 62.703125 7.8125 59.421875 \r\nL 7.8125 69.390625 \r\nQ 13.765625 71.78125 18.9375 73 \r\nQ 24.125 74.21875 28.421875 74.21875 \r\nQ 39.75 74.21875 46.484375 68.546875 \r\nQ 53.21875 62.890625 53.21875 53.421875 \r\nQ 53.21875 48.921875 51.53125 44.890625 \r\nQ 49.859375 40.875 45.40625 35.40625 \r\nQ 44.1875 33.984375 37.640625 27.21875 \r\nQ 31.109375 20.453125 19.1875 8.296875 \r\nz\r\n\" id=\"DejaVuSans-50\"/>\r\n       </defs>\r\n       <use xlink:href=\"#DejaVuSans-50\"/>\r\n      </g>\r\n     </g>\r\n    </g>\r\n    <g id=\"xtick_3\">\r\n     <g id=\"line2d_3\">\r\n      <g>\r\n       <use style=\"stroke:#000000;stroke-width:0.8;\" x=\"118.4105\" xlink:href=\"#mc2951f681d\" y=\"224.64\"/>\r\n      </g>\r\n     </g>\r\n     <g id=\"text_3\">\r\n      <!-- 4 -->\r\n      <g transform=\"translate(115.22925 239.238437)scale(0.1 -0.1)\">\r\n       <defs>\r\n        <path d=\"M 37.796875 64.3125 \r\nL 12.890625 25.390625 \r\nL 37.796875 25.390625 \r\nz\r\nM 35.203125 72.90625 \r\nL 47.609375 72.90625 \r\nL 47.609375 25.390625 \r\nL 58.015625 25.390625 \r\nL 58.015625 17.1875 \r\nL 47.609375 17.1875 \r\nL 47.609375 0 \r\nL 37.796875 0 \r\nL 37.796875 17.1875 \r\nL 4.890625 17.1875 \r\nL 4.890625 26.703125 \r\nz\r\n\" id=\"DejaVuSans-52\"/>\r\n       </defs>\r\n       <use xlink:href=\"#DejaVuSans-52\"/>\r\n      </g>\r\n     </g>\r\n    </g>\r\n   </g>\r\n   <g id=\"matplotlib.axis_2\">\r\n    <g id=\"ytick_1\">\r\n     <g id=\"line2d_4\">\r\n      <defs>\r\n       <path d=\"M 0 0 \r\nL -3.5 0 \r\n\" id=\"m884e70ddd9\" style=\"stroke:#000000;stroke-width:0.8;\"/>\r\n      </defs>\r\n      <g>\r\n       <use style=\"stroke:#000000;stroke-width:0.8;\" x=\"20.5625\" xlink:href=\"#m884e70ddd9\" y=\"18.072\"/>\r\n      </g>\r\n     </g>\r\n     <g id=\"text_4\">\r\n      <!-- 0 -->\r\n      <g transform=\"translate(7.2 21.871219)scale(0.1 -0.1)\">\r\n       <use xlink:href=\"#DejaVuSans-48\"/>\r\n      </g>\r\n     </g>\r\n    </g>\r\n    <g id=\"ytick_2\">\r\n     <g id=\"line2d_5\">\r\n      <g>\r\n       <use style=\"stroke:#000000;stroke-width:0.8;\" x=\"20.5625\" xlink:href=\"#m884e70ddd9\" y=\"61.56\"/>\r\n      </g>\r\n     </g>\r\n     <g id=\"text_5\">\r\n      <!-- 2 -->\r\n      <g transform=\"translate(7.2 65.359219)scale(0.1 -0.1)\">\r\n       <use xlink:href=\"#DejaVuSans-50\"/>\r\n      </g>\r\n     </g>\r\n    </g>\r\n    <g id=\"ytick_3\">\r\n     <g id=\"line2d_6\">\r\n      <g>\r\n       <use style=\"stroke:#000000;stroke-width:0.8;\" x=\"20.5625\" xlink:href=\"#m884e70ddd9\" y=\"105.048\"/>\r\n      </g>\r\n     </g>\r\n     <g id=\"text_6\">\r\n      <!-- 4 -->\r\n      <g transform=\"translate(7.2 108.847219)scale(0.1 -0.1)\">\r\n       <use xlink:href=\"#DejaVuSans-52\"/>\r\n      </g>\r\n     </g>\r\n    </g>\r\n    <g id=\"ytick_4\">\r\n     <g id=\"line2d_7\">\r\n      <g>\r\n       <use style=\"stroke:#000000;stroke-width:0.8;\" x=\"20.5625\" xlink:href=\"#m884e70ddd9\" y=\"148.536\"/>\r\n      </g>\r\n     </g>\r\n     <g id=\"text_7\">\r\n      <!-- 6 -->\r\n      <g transform=\"translate(7.2 152.335219)scale(0.1 -0.1)\">\r\n       <defs>\r\n        <path d=\"M 33.015625 40.375 \r\nQ 26.375 40.375 22.484375 35.828125 \r\nQ 18.609375 31.296875 18.609375 23.390625 \r\nQ 18.609375 15.53125 22.484375 10.953125 \r\nQ 26.375 6.390625 33.015625 6.390625 \r\nQ 39.65625 6.390625 43.53125 10.953125 \r\nQ 47.40625 15.53125 47.40625 23.390625 \r\nQ 47.40625 31.296875 43.53125 35.828125 \r\nQ 39.65625 40.375 33.015625 40.375 \r\nz\r\nM 52.59375 71.296875 \r\nL 52.59375 62.3125 \r\nQ 48.875 64.0625 45.09375 64.984375 \r\nQ 41.3125 65.921875 37.59375 65.921875 \r\nQ 27.828125 65.921875 22.671875 59.328125 \r\nQ 17.53125 52.734375 16.796875 39.40625 \r\nQ 19.671875 43.65625 24.015625 45.921875 \r\nQ 28.375 48.1875 33.59375 48.1875 \r\nQ 44.578125 48.1875 50.953125 41.515625 \r\nQ 57.328125 34.859375 57.328125 23.390625 \r\nQ 57.328125 12.15625 50.6875 5.359375 \r\nQ 44.046875 -1.421875 33.015625 -1.421875 \r\nQ 20.359375 -1.421875 13.671875 8.265625 \r\nQ 6.984375 17.96875 6.984375 36.375 \r\nQ 6.984375 53.65625 15.1875 63.9375 \r\nQ 23.390625 74.21875 37.203125 74.21875 \r\nQ 40.921875 74.21875 44.703125 73.484375 \r\nQ 48.484375 72.75 52.59375 71.296875 \r\nz\r\n\" id=\"DejaVuSans-54\"/>\r\n       </defs>\r\n       <use xlink:href=\"#DejaVuSans-54\"/>\r\n      </g>\r\n     </g>\r\n    </g>\r\n    <g id=\"ytick_5\">\r\n     <g id=\"line2d_8\">\r\n      <g>\r\n       <use style=\"stroke:#000000;stroke-width:0.8;\" x=\"20.5625\" xlink:href=\"#m884e70ddd9\" y=\"192.024\"/>\r\n      </g>\r\n     </g>\r\n     <g id=\"text_8\">\r\n      <!-- 8 -->\r\n      <g transform=\"translate(7.2 195.823219)scale(0.1 -0.1)\">\r\n       <defs>\r\n        <path d=\"M 31.78125 34.625 \r\nQ 24.75 34.625 20.71875 30.859375 \r\nQ 16.703125 27.09375 16.703125 20.515625 \r\nQ 16.703125 13.921875 20.71875 10.15625 \r\nQ 24.75 6.390625 31.78125 6.390625 \r\nQ 38.8125 6.390625 42.859375 10.171875 \r\nQ 46.921875 13.96875 46.921875 20.515625 \r\nQ 46.921875 27.09375 42.890625 30.859375 \r\nQ 38.875 34.625 31.78125 34.625 \r\nz\r\nM 21.921875 38.8125 \r\nQ 15.578125 40.375 12.03125 44.71875 \r\nQ 8.5 49.078125 8.5 55.328125 \r\nQ 8.5 64.0625 14.71875 69.140625 \r\nQ 20.953125 74.21875 31.78125 74.21875 \r\nQ 42.671875 74.21875 48.875 69.140625 \r\nQ 55.078125 64.0625 55.078125 55.328125 \r\nQ 55.078125 49.078125 51.53125 44.71875 \r\nQ 48 40.375 41.703125 38.8125 \r\nQ 48.828125 37.15625 52.796875 32.3125 \r\nQ 56.78125 27.484375 56.78125 20.515625 \r\nQ 56.78125 9.90625 50.3125 4.234375 \r\nQ 43.84375 -1.421875 31.78125 -1.421875 \r\nQ 19.734375 -1.421875 13.25 4.234375 \r\nQ 6.78125 9.90625 6.78125 20.515625 \r\nQ 6.78125 27.484375 10.78125 32.3125 \r\nQ 14.796875 37.15625 21.921875 38.8125 \r\nz\r\nM 18.3125 54.390625 \r\nQ 18.3125 48.734375 21.84375 45.5625 \r\nQ 25.390625 42.390625 31.78125 42.390625 \r\nQ 38.140625 42.390625 41.71875 45.5625 \r\nQ 45.3125 48.734375 45.3125 54.390625 \r\nQ 45.3125 60.0625 41.71875 63.234375 \r\nQ 38.140625 66.40625 31.78125 66.40625 \r\nQ 25.390625 66.40625 21.84375 63.234375 \r\nQ 18.3125 60.0625 18.3125 54.390625 \r\nz\r\n\" id=\"DejaVuSans-56\"/>\r\n       </defs>\r\n       <use xlink:href=\"#DejaVuSans-56\"/>\r\n      </g>\r\n     </g>\r\n    </g>\r\n   </g>\r\n   <g id=\"patch_3\">\r\n    <path d=\"M 20.5625 224.64 \r\nL 20.5625 7.2 \r\n\" style=\"fill:none;stroke:#000000;stroke-linecap:square;stroke-linejoin:miter;stroke-width:0.8;\"/>\r\n   </g>\r\n   <g id=\"patch_4\">\r\n    <path d=\"M 151.0265 224.64 \r\nL 151.0265 7.2 \r\n\" style=\"fill:none;stroke:#000000;stroke-linecap:square;stroke-linejoin:miter;stroke-width:0.8;\"/>\r\n   </g>\r\n   <g id=\"patch_5\">\r\n    <path d=\"M 20.5625 224.64 \r\nL 151.0265 224.64 \r\n\" style=\"fill:none;stroke:#000000;stroke-linecap:square;stroke-linejoin:miter;stroke-width:0.8;\"/>\r\n   </g>\r\n   <g id=\"patch_6\">\r\n    <path d=\"M 20.5625 7.2 \r\nL 151.0265 7.2 \r\n\" style=\"fill:none;stroke:#000000;stroke-linecap:square;stroke-linejoin:miter;stroke-width:0.8;\"/>\r\n   </g>\r\n  </g>\r\n </g>\r\n <defs>\r\n  <clipPath id=\"p1f0ae2ed9e\">\r\n   <rect height=\"217.44\" width=\"130.464\" x=\"20.5625\" y=\"7.2\"/>\r\n  </clipPath>\r\n </defs>\r\n</svg>\r\n",
      "image/png": "[encoded data removed]"
     },
     "metadata": {
      "needs_background": "light"
     }
    }
   ],
   "source": [
    "N_STEP = 10\n",
    "\n",
    "input.reset()\n",
    "neuron.reset()\n",
    "\n",
    "spike_log = np.empty((N_STEP, n_inputs + n_neurons))\n",
    "for s in range(N_STEP):\n",
    "    input.update(np.random.randint(4))\n",
    "\n",
    "    spikes = np.append(input(), neuron >= neuron_config['firing_threshold'])\n",
    "    neuron.update()\n",
    "\n",
    "    neuron += np.matmul(weight.matrix.T, spikes)\n",
    "\n",
    "    spike_log[s] = spikes\n",
    "\n",
    "plt.imshow(spike_log, cmap='gray')\n",
    "plt.show()"
   ]
  },
  {
   "source": [
    "## Creating a Spiking Neural Network\n",
    "\n",
    "The Network object manages all of the pieces that go into an SNN and serves a simple interface for the user.\n",
    "\n",
    "```none\n",
    "----------  -----------  ---------  -----\n",
    "| Neuron |  | Synapse |  | Input |  | ...\n",
    "----------  -----------  ---------  -----\n",
    "       \\         |         /\n",
    "         \\       |       /\n",
    "           -------------\n",
    "           |  Network  |\n",
    "           -------------\n",
    "```"
   ],
   "cell_type": "markdown",
   "metadata": {}
  },
  {
   "cell_type": "code",
   "execution_count": 12,
   "metadata": {},
   "outputs": [
    {
     "output_type": "execute_result",
     "data": {
      "text/plain": [
       "{'inputs': 'snn.input.Input',\n",
       " 'neurons': 'snn.neuron.Neuron',\n",
       " 'weights': 'snn.weight.Weight',\n",
       " 'synapses': 'snn.synapse.Synapse',\n",
       " 'readout': 'snn.readout.Readout',\n",
       " 'modifiers': 'list of snn.modifier.Modifier',\n",
       " 'rewarder': 'snn.reward.Reward'}"
      ]
     },
     "metadata": {},
     "execution_count": 12
    }
   ],
   "source": [
    "network_type = spikey.network.RLNetwork\n",
    "network_type.NECESSARY_PARTS"
   ]
  },
  {
   "cell_type": "code",
   "execution_count": 13,
   "metadata": {},
   "outputs": [
    {
     "output_type": "stream",
     "name": "stdout",
     "text": [
      "RLNetwork\n\tn_inputs: int Number input neurons.\n\tn_outputs: int n_outputs = n_neurons - n_body.\n\tprocessing_time: int Number of network timesteps per game timestep.NOTE: processing_time must be greater than window!\n\tfiring_threshold: float Neuron voltage threshold to fire.\n\tn_neurons: int Number of neurons in the network.\nStaticMap\n\tn_inputs: int Number of inputs.\n\tmagnitude: float Multiplier to each 0, 1 spike value.\n\tfiring_steps: int Number of network steps to fire for, -1 if all.\n\tinput_pct_inhibitory: float Pct of inputs that are inhibitory\n\tmapping: dict[tuple]->ndarray[processing_time, n_inputs, dtype=bool] State to fires mapping..\nNeuron\n\tmagnitude: float Magnitude of spike.\n\tn_neurons: int Number of neurons in the network.\n\tneuron_pct_inhibitory: float [0, 1] Percentage of inhibitory neurons.\n\tpotential_decay: float[0, 1] Percentage voltage loss on each tick.\n\tprob_rand_fire: float [0, 1] Probability each neuron will randomly fire\n\trefractory_period: int Amount of time after spike neuron cannot fire.\n\tresting_mv: float Neuron resting voltage.\n\tspike_delay: int[0, 10] Units of time after hitting threshold to fire.\nManual\n\tn_inputs: int Number of inputs.\n\tn_neurons: int Number of neurons in network.\n\tmax_weight: float Max synapse weight.\n\tmatrix: ndarray/func Matrix to use/generate.\n\tinh_weight_mask: ndarray, boolean Matrix showing what synapses are inhibitory\nRLSTDPET\n\tn_neurons: int Number of neurons in network\n\tn_inputs: int Number of inputs\n\tstdp_window: int Time period that stdp will take effect.\n\tlearning_rate: float Scalar to trace updates.\n\tmax_weight: float Max synapse weight.\n\ttrace_decay: float Percent to decay trace by per timestep.\nNeuronRates\n\tn_outputs: int Number of output neurons.\n\tmagnitude: float Spike fire magnitude.\n\toutput_range: list[float] Range of values output can produce.\n\tn_pools: int Number of groups to put neurons into. 0 pools means each neuron separate output.\nMatchExpected\n\treward_mult: float Multiplier for reward\n\tpunish_mult: float Multiplier for punishment.\n\texpected_value: func(state)->action Expected action.\n"
     ]
    }
   ],
   "source": [
    "parts = {\n",
    "    'inputs': spikey.input.StaticMap,\n",
    "    'neurons': spikey.neuron.Neuron,\n",
    "    'weights': spikey.weight.Manual,\n",
    "    'synapses': spikey.synapse.RLSTDPET,\n",
    "    'readout': spikey.readout.NeuronRates,\n",
    "    'modifiers': None,\n",
    "    'rewarder': spikey.reward.MatchExpected,\n",
    "}\n",
    "\n",
    "network_type.list_necessary_keys(**parts)"
   ]
  },
  {
   "cell_type": "code",
   "execution_count": 14,
   "metadata": {},
   "outputs": [],
   "source": [
    "network_config = {\n",
    "    \"n_inputs\": 2,\n",
    "\t\"n_neurons\": 4,\n",
    "\t\"n_outputs\": 4,\n",
    "\t\"processing_time\": 10,\n",
    "\n",
    "\t\"magnitude\": 1,\n",
    "\t\"resting_mv\": 0,\n",
    "\t\"firing_threshold\": 2,\n",
    "\t\"spike_delay\": 0,\n",
    "\t\"refractory_period\": 1,\n",
    "\t\"potential_decay\": .25,\n",
    "\t\"prob_rand_fire\": 0,\n",
    "\t\"neuron_pct_inhibitory\": 0,\n",
    "\n",
    "\t\"learning_rate\": .01,\n",
    "\t\"stdp_window\": 20,\n",
    "\t\"trace_decay\": .25,\n",
    "\t\"max_weight\": 1,\n",
    "\t\"matrix\": np.random.uniform(size=(6, 4)),\n",
    "\t\"inh_weight_mask\": None,\n",
    "\n",
    "\t\"mapping\": type('input_map', (object,), {'__getitem__': lambda s, x: np.array(x)})(),\n",
    "\t\"firing_steps\": -1,\n",
    "\t\"input_pct_inhibitory\": 0,\n",
    "\n",
    "    \"n_pools\": 0,\n",
    "\t\"output_range\": [0, 1],\n",
    "\n",
    "\t\"reward_mult\": 1,\n",
    "\t\"punish_mult\": -1,\n",
    "\t\"expected_value\": lambda state: np.sum(state) % 2,\n",
    "}\n",
    "\n",
    "network = network_type(**parts, **network_config)"
   ]
  },
  {
   "cell_type": "code",
   "execution_count": 15,
   "metadata": {},
   "outputs": [],
   "source": [
    "# Alternative method, more readable when sharing to training loops and meta tools. Network template variables config and template parts have lower(lowest) priority than kwargs.\n",
    "class network_template(network_type):\n",
    "    config = network_config\n",
    "    _template_parts = parts\n",
    "\n",
    "network = network_template()"
   ]
  },
  {
   "cell_type": "code",
   "execution_count": 16,
   "metadata": {},
   "outputs": [
    {
     "output_type": "stream",
     "name": "stdout",
     "text": [
      "[0.   0.   0.   0.25]\n[0.   0.25 0.25 0.25]\n[0.5  0.   0.   0.25]\n[0.   0.   0.25 0.  ]\n[0. 0. 0. 0.]\n[0.   0.25 0.25 0.25]\n[0. 0. 0. 0.]\n[0.   0.25 0.5  0.25]\n[0. 0. 0. 0.]\n[0.   0.25 0.25 0.25]\n"
     ]
    }
   ],
   "source": [
    "network.reset()\n",
    "\n",
    "for s in range(10):\n",
    "    output_rates = network.tick(np.random.randint(2, size=2))\n",
    "\n",
    "    print(output_rates)"
   ]
  },
  {
   "source": [
    "## Games / Environments\n",
    "\n",
    "In Spikey, a game defines how spiking agents interact with the environment. They are very simple standalone objects. The structure is based on OpenAI gym environments which themselves can be converted to our type by the gym wrapper.\n",
    "\n",
    "It is important to use Spikey's RL environments for perfect compatability with TrainingLoops, callbacks and meta analysis tools."
   ],
   "cell_type": "markdown",
   "metadata": {}
  },
  {
   "cell_type": "code",
   "execution_count": 17,
   "metadata": {},
   "outputs": [
    {
     "output_type": "execute_result",
     "data": {
      "text/plain": [
       "{'n_inputs': 'int Number of inputs.',\n",
       " 'expected_value': 'func(state) Expected action.'}"
      ]
     },
     "metadata": {},
     "execution_count": 17
    }
   ],
   "source": [
    "game_type = spikey.RL.Logic\n",
    "game_type.NECESSARY_KEYS"
   ]
  },
  {
   "cell_type": "code",
   "execution_count": 18,
   "metadata": {},
   "outputs": [],
   "source": [
    "game = game_type(preset='XOR')"
   ]
  },
  {
   "cell_type": "code",
   "execution_count": 19,
   "metadata": {},
   "outputs": [],
   "source": [
    "# Are able to use kwargs similar to network, which take precedent over the preset\n",
    "game_config = {\n",
    "    'n_inputs': 2,\n",
    "    'expected_value': lambda state: np.sum(state) % 2,\n",
    "}\n",
    "game = game_type(**game_config)"
   ]
  },
  {
   "cell_type": "code",
   "execution_count": 20,
   "metadata": {},
   "outputs": [],
   "source": [
    "# An alternative method, hardcoded game_template.config has lower(lowest) priority than presets and kwargs.\n",
    "class game_template(game_type):\n",
    "    config = game_config\n",
    "\n",
    "game = game_template()\n",
    "_ = game.seed(0)"
   ]
  },
  {
   "cell_type": "code",
   "execution_count": 21,
   "metadata": {},
   "outputs": [
    {
     "output_type": "stream",
     "name": "stdout",
     "text": [
      "(False, True) \t-> False\n(True, False) \t-> False\n(True, True) \t-> True\n(False, True) \t-> True\n(True, True) \t-> False\n(False, False) \t-> False\n(False, False) \t-> True\n(True, False) \t-> True\n(False, True) \t-> True\n(True, True) \t-> False\n"
     ]
    }
   ],
   "source": [
    "state = game.reset()\n",
    "for _ in range(10):\n",
    "    action = np.random.randint(2, dtype=np.bool)\n",
    "\n",
    "    state, reward, done, info = game.step(action)\n",
    "    print(state, '\\t->', action)\n",
    "    if done:\n",
    "        break"
   ]
  },
  {
   "source": [
    "## Training Loops\n",
    "\n",
    "Spiking neural networks are trained by letting them interact with some environment for a significant amount of time, then giving them feedback of their performance via some reinforcement or supervision signal. For the vast majority of experiments the exact same training loop code can be used.\n",
    "\n",
    "Spikey provides both pre-built, distributable training loops and the ability for the user to define their own.\n",
    "\n",
    "```none\n",
    "----------  -----------  ---------  -----\n",
    "| Neuron |  | Synapse |  | Input |  | ...\n",
    "----------  -----------  ---------  -----\n",
    "       \\         |         /\n",
    "         \\       |       /\n",
    "--------   -------------\n",
    "| Game |   |  Network  |\n",
    "--------   -------------\n",
    "   |            /\n",
    "   |           /\n",
    "-----------------\n",
    "| Training Loop |\n",
    "-----------------\n",
    "```"
   ],
   "cell_type": "markdown",
   "metadata": {}
  },
  {
   "cell_type": "code",
   "execution_count": 22,
   "metadata": {},
   "outputs": [
    {
     "output_type": "execute_result",
     "data": {
      "text/plain": [
       "{'n_episodes': 'int Number of episodes to run,',\n",
       " 'len_episode': 'int Length of episode.'}"
      ]
     },
     "metadata": {},
     "execution_count": 22
    }
   ],
   "source": [
    "loop_type = spikey.core.GenericLoop\n",
    "loop_type.NECESSARY_KEYS"
   ]
  },
  {
   "cell_type": "code",
   "execution_count": 23,
   "metadata": {},
   "outputs": [],
   "source": [
    "# Using pre-built, distributable training loop\n",
    "experiment_params = {\n",
    "    **network_config,\n",
    "    **parts,\n",
    "    **game_config,\n",
    "    \"n_episodes\": 1,\n",
    "    \"len_episode\": 10,\n",
    "}\n",
    "experiment = loop_type(network_type, game_type, experiment_params)"
   ]
  },
  {
   "cell_type": "code",
   "execution_count": 24,
   "metadata": {},
   "outputs": [],
   "source": [
    "# Creating distributable training loop\n",
    "class CustomLoop(spikey.core.TrainingLoop):\n",
    "    NECESSARY_KEYS = spikey.core.TrainingLoop.extend_keys(\n",
    "        {\n",
    "            \"n_episodes\": \"int Number of episodes to run,\",\n",
    "            \"len_episode\": \"int Length of episode.\",\n",
    "        }\n",
    "    )\n",
    "    def __call__(self, **kwargs) -> (object, object, dict, dict):\n",
    "        game = self.game_template(**self.params)\n",
    "        network = self.network_template(game=game, **self.params)\n",
    "\n",
    "        for e in range(self.params[\"n_episodes\"]):\n",
    "            network.reset()\n",
    "            state = game.reset()\n",
    "\n",
    "            for s in range(self.params[\"len_episode\"]):\n",
    "                action = network.tick(state)\n",
    "\n",
    "                state, _, done, __ = game.step(action)\n",
    "\n",
    "                if hasattr(network, 'reward') and callable(getattr(network, 'reward')):\n",
    "                    reward = network.reward(state, action)\n",
    "\n",
    "                if done:\n",
    "                    break\n",
    "\n",
    "        return network, game, {}, {}\n",
    "\n",
    "not_experiment = CustomLoop(network_type, game_type, experiment_params)"
   ]
  },
  {
   "cell_type": "code",
   "execution_count": 25,
   "metadata": {},
   "outputs": [
    {
     "output_type": "stream",
     "name": "stdout",
     "text": [
      "(False, True) \t-> [0.   0.25 0.5  0.25]\n(True, False) \t-> [0.25 0.25 0.25 0.25]\n(True, False) \t-> [0.   0.25 0.25 0.25]\n(False, True) \t-> [0.25 0.5  0.25 0.  ]\n(True, False) \t-> [0.5  0.   0.   0.25]\n(True, True) \t-> [0.5  0.5  0.25 0.25]\n(True, True) \t-> [0.5 0.5 0.5 0.5]\n(False, False) \t-> [0.5  0.5  0.5  0.25]\n(True, False) \t-> [0. 0. 0. 0.]\n(False, False) \t-> [0.25 0.5  0.25 0.25]\n"
     ]
    }
   ],
   "source": [
    "# Fully custom training loop\n",
    "# NOTE: This method not recomended if you intend to use it in any meta analysis tools.\n",
    "game = game_template()\n",
    "network = network_template(game=game)\n",
    "\n",
    "for e in range(experiment_params[\"n_episodes\"]):\n",
    "    network.reset()\n",
    "    state = game.reset()\n",
    "\n",
    "    for s in range(experiment_params[\"len_episode\"]):\n",
    "        action = network.tick(state)\n",
    "\n",
    "        state, _, done, __ = game.step(action)\n",
    "\n",
    "        if hasattr(network, 'reward') and callable(getattr(network, 'reward')):\n",
    "            reward = network.reward(state, action)\n",
    "\n",
    "        print(state, '\\t->', action)\n",
    "\n",
    "        if done:\n",
    "            break"
   ]
  },
  {
   "cell_type": "code",
   "execution_count": 26,
   "metadata": {},
   "outputs": [
    {
     "output_type": "stream",
     "name": "stdout",
     "text": [
      "<spikey.snn.network.RLNetwork object at 0x00000220EB7F9880>\n",
      "<spikey.games.RL.Logic.Logic object at 0x00000220EB845430>\n",
      "{'version': '0.0.0', 'total_time': 0.04587888717651367, 'n_episodes': 1, 'len_episode': 10}\n"
     ]
    }
   ],
   "source": [
    "# Results and info come from callback(below)\n",
    "# Results is data that can be loaded to a table, info is things that require more analysis\n",
    "experiment.reset()\n",
    "network, game, results, info = experiment()\n",
    "\n",
    "print(network)\n",
    "print(game)\n",
    "print(results)"
   ]
  },
  {
   "source": [
    "## Callback\n",
    "\n",
    "Callbacks are the core of the experiment management of Spikey. Callback is responsible for tracking preset and user targeted signals. Any information gathered by the callback can be logged to file and read later using the respective logger and reader.\n",
    "\n",
    "```none\n",
    "--------   -------------\n",
    "| Game |   |  Network  |\n",
    "--------   -------------    ------------\n",
    "   |____________/___________| Callback | --> Logger --> Reader\n",
    "   |           /            ------------\n",
    "-----------------\n",
    "| Training Loop |\n",
    "-----------------\n",
    "```"
   ],
   "cell_type": "markdown",
   "metadata": {}
  },
  {
   "cell_type": "code",
   "execution_count": 27,
   "metadata": {},
   "outputs": [],
   "source": [
    "# A standalone callback working on an arbitrary function, demonstrating how it is used by network and game\n",
    "callback = spikey.core.ExperimentCallback()\n",
    "callback.random = lambda *a: None  # Define binding\n",
    "\n",
    "## First add some signal trackers that trigger when binding is called in form\n",
    "# callback.track(\n",
    "#       binding_fn_name,\n",
    "#       output location = 'result'/'info',\n",
    "#       name for tracker,\n",
    "#       target in form ['network/game/experiment_params', 'obj1', 'obj2', 'var_name'] or ['arg_#'],\n",
    "#       method = 'list'/'scalar,       \n",
    "# )\n",
    "\n",
    "# Callback update a scalar variable in results dictionary whenever binding called\n",
    "callback.track(\"random\", \"results\", \"demo_1\", ['arg_0'], \"scalar\")\n",
    "\n",
    "# Callback append to list in info dictionary whenever binding called\n",
    "callback.track(\"random\", \"info\", \"demo_2\", ['arg_0'], \"list\")\n",
    "\n",
    "callback.reset()\n",
    "\n",
    "def random(arg1):\n",
    "    callback.random(arg1)"
   ]
  },
  {
   "cell_type": "code",
   "execution_count": 28,
   "metadata": {},
   "outputs": [
    {
     "output_type": "stream",
     "name": "stdout",
     "text": [
      "demo_1: 0, demo_2: [0]\n"
     ]
    }
   ],
   "source": [
    "random(0)\n",
    "\n",
    "print(f\"demo_1: {callback.results['demo_1']}, demo_2: {callback.info['demo_2']}\")"
   ]
  },
  {
   "cell_type": "code",
   "execution_count": 29,
   "metadata": {},
   "outputs": [
    {
     "output_type": "stream",
     "name": "stdout",
     "text": [
      "demo_1: 0, demo_2: []\ndemo_1: 4, demo_2: [0, 1, 2, 3, 4]\n"
     ]
    }
   ],
   "source": [
    "callback.reset()\n",
    "print(f\"demo_1: {callback.results['demo_1']}, demo_2: {callback.info['demo_2']}\")\n",
    "\n",
    "for i in range(5):\n",
    "    random(i)\n",
    "\n",
    "print(f\"demo_1: {callback.results['demo_1']}, demo_2: {callback.info['demo_2']}\")"
   ]
  },
  {
   "cell_type": "code",
   "execution_count": 30,
   "metadata": {},
   "outputs": [],
   "source": [
    "# Further callback custom tracking\n",
    "callback = spikey.core.RLCallback()\n",
    "\n",
    "# Object member variable\n",
    "callback.track(\"network_init\", \"info\", \"weights_original\", [\"network\", \"synapses\", \"weights\", \"matrix\"], \"scalar\")\n",
    "callback.track(\"training_end\", \"results\", \"len_episode\", [\"experiment_params\", \"len_episode\"], \"scalar\")\n",
    "\n",
    "# Function argument\n",
    "callback.track(\"network_reward\", \"info\", \"step_rewards\", [\"arg_2\"], \"list\")\n",
    "\n",
    "# Arbitrary function\n",
    "callback.track(\"network_init\", \"info\", \"start_time\", time, \"scalar\")"
   ]
  },
  {
   "cell_type": "code",
   "execution_count": 31,
   "metadata": {},
   "outputs": [],
   "source": [
    "experiment_params = {\n",
    "    **network_config,\n",
    "    **parts,\n",
    "    **game_config,\n",
    "    \"n_episodes\": 1,\n",
    "    \"len_episode\": 10,\n",
    "}\n",
    "experiment = loop_type(network_type, game_type, experiment_params)"
   ]
  },
  {
   "cell_type": "code",
   "execution_count": 32,
   "metadata": {},
   "outputs": [
    {
     "output_type": "stream",
     "name": "stdout",
     "text": [
      "Failed to get experiment_params.len_episode in <class 'spikey.core.callback.RLCallback'>: 'len_episode'.\n"
     ]
    }
   ],
   "source": [
    "# Log from tl and base\n",
    "# This will save to a json file with members\n",
    "# network: All network parts and serializable(json safe) parameters\n",
    "# game: All game serializable(json safe) parameters.\n",
    "# results: Any results that can be directly read into a table, typically from a callback\n",
    "# info: Any other data relevant for analysis, typcially from a callback\n",
    "filename = 'tutorial_log.json'\n",
    "\n",
    "experiment.reset()\n",
    "network, game, results, info = experiment(callback=callback)\n",
    "\n",
    "callback.log(filename=filename)\n",
    "# alternatively, spikey.logging.log(network, game, results, info, filename=filename)"
   ]
  },
  {
   "cell_type": "code",
   "execution_count": 33,
   "metadata": {},
   "outputs": [
    {
     "output_type": "execute_result",
     "data": {
      "text/plain": [
       "   n_inputs  n_neurons  n_outputs  processing_time  magnitude  resting_mv  \\\n",
       "0       2.0        4.0        4.0             10.0        1.0         0.0   \n",
       "\n",
       "   firing_threshold  spike_delay  refractory_period  potential_decay  ...  \\\n",
       "0               2.0          0.0                1.0             0.25  ...   \n",
       "\n",
       "   len_episode  name                                             matrix  \\\n",
       "0           {}    OR  [[0.12990176103990514, 0.6355179992492626, 0.2...   \n",
       "\n",
       "   output_range  modifiers  callback  inh_weight_mask  mapping  total_time  \\\n",
       "0    [0.0, 1.0]       None       0.0             None     None    0.037903   \n",
       "\n",
       "   version  \n",
       "0    0.0.0  \n",
       "\n",
       "[1 rows x 32 columns]"
      ],
      "text/html": "<div>\n<style scoped>\n    .dataframe tbody tr th:only-of-type {\n        vertical-align: middle;\n    }\n\n    .dataframe tbody tr th {\n        vertical-align: top;\n    }\n\n    .dataframe thead th {\n        text-align: right;\n    }\n</style>\n<table border=\"1\" class=\"dataframe\">\n  <thead>\n    <tr style=\"text-align: right;\">\n      <th></th>\n      <th>n_inputs</th>\n      <th>n_neurons</th>\n      <th>n_outputs</th>\n      <th>processing_time</th>\n      <th>magnitude</th>\n      <th>resting_mv</th>\n      <th>firing_threshold</th>\n      <th>spike_delay</th>\n      <th>refractory_period</th>\n      <th>potential_decay</th>\n      <th>...</th>\n      <th>len_episode</th>\n      <th>name</th>\n      <th>matrix</th>\n      <th>output_range</th>\n      <th>modifiers</th>\n      <th>callback</th>\n      <th>inh_weight_mask</th>\n      <th>mapping</th>\n      <th>total_time</th>\n      <th>version</th>\n    </tr>\n  </thead>\n  <tbody>\n    <tr>\n      <th>0</th>\n      <td>2.0</td>\n      <td>4.0</td>\n      <td>4.0</td>\n      <td>10.0</td>\n      <td>1.0</td>\n      <td>0.0</td>\n      <td>2.0</td>\n      <td>0.0</td>\n      <td>1.0</td>\n      <td>0.25</td>\n      <td>...</td>\n      <td>{}</td>\n      <td>OR</td>\n      <td>[[0.12990176103990514, 0.6355179992492626, 0.2...</td>\n      <td>[0.0, 1.0]</td>\n      <td>None</td>\n      <td>0.0</td>\n      <td>None</td>\n      <td>None</td>\n      <td>0.037903</td>\n      <td>0.0.0</td>\n    </tr>\n  </tbody>\n</table>\n<p>1 rows × 32 columns</p>\n</div>"
     },
     "metadata": {},
     "execution_count": 33
    }
   ],
   "source": [
    "# Reader usage\n",
    "reader = spikey.logging.Reader('.', [filename])\n",
    "\n",
    "# For all items in network, game, result\n",
    "reader.df"
   ]
  },
  {
   "cell_type": "code",
   "execution_count": 34,
   "metadata": {},
   "outputs": [
    {
     "output_type": "execute_result",
     "data": {
      "text/plain": [
       "['[10]']"
      ]
     },
     "metadata": {},
     "execution_count": 34
    }
   ],
   "source": [
    "# For specific items in any section\n",
    "reader['episode_lens']"
   ]
  }
 ]
}