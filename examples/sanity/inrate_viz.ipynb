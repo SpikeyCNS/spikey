{
 "cells": [
  {
   "cell_type": "markdown",
   "metadata": {},
   "source": [
    "Viz game state to input rate."
   ]
  },
  {
   "cell_type": "code",
   "execution_count": null,
   "metadata": {},
   "outputs": [],
   "source": [
    "import numpy as np\n",
    "import matplotlib.pyplot as plt\n",
    "\n",
    "from spikey.RL.Logic import Logic as GAME\n",
    "STATES = [(0, 0), (0, 1), (1, 0), (1, 1)]"
   ]
  },
  {
   "cell_type": "code",
   "execution_count": null,
   "metadata": {
    "tags": []
   },
   "outputs": [],
   "source": [
    "## State to rate\n",
    "X, Y = [], []\n",
    "\n",
    "config = {}\n",
    "\n",
    "for state in STATES:\n",
    "    game = GAME(**config)\n",
    "    rate = np.array([0, .8])[np.array(state)]\n",
    "\n",
    "    rate = np.mean(rate)\n",
    "\n",
    "    X.append(str(state))\n",
    "    Y.append(rate)\n",
    "\n",
    "plt.plot(X, Y)\n",
    "plt.xlabel(\"State\")\n",
    "plt.ylabel(\"Rate\")"
   ]
  },
  {
   "cell_type": "code",
   "execution_count": null,
   "metadata": {},
   "outputs": [],
   "source": [
    "## Show separate input rates\n",
    "X, Y = [], []\n",
    "\n",
    "config = {}\n",
    "\n",
    "for state in STATES:\n",
    "    game = GAME(**config)\n",
    "    rates = np.array([0, .8])[np.array(state)]\n",
    "\n",
    "    for i, rate in enumerate(rates):\n",
    "        if i >= len(Y):\n",
    "            X.append([])\n",
    "            Y.append([])\n",
    "\n",
    "        X[i].append(str(state))\n",
    "        Y[i].append(rate)\n",
    "\n",
    "for i, y in enumerate(Y):\n",
    "    plt.plot(X[i], y, label=i)\n",
    "\n",
    "plt.xlabel(\"State\")\n",
    "plt.ylabel(\"Rate\")\n",
    "plt.legend()"
   ]
  },
  {
   "cell_type": "code",
   "execution_count": null,
   "metadata": {},
   "outputs": [],
   "source": []
  }
 ],
 "metadata": {
  "language_info": {
   "name": "python",
   "codemirror_mode": {
    "name": "ipython",
    "version": 3
   },
   "version": "3.7.6-final"
  },
  "orig_nbformat": 2,
  "file_extension": ".py",
  "mimetype": "text/x-python",
  "name": "python",
  "npconvert_exporter": "python",
  "pygments_lexer": "ipython3",
  "version": 3,
  "kernelspec": {
   "name": "python37664bit1466fe8d14ba450eaad73bc0bfdd77c3",
   "display_name": "Python 3.7.6 64-bit"
  }
 },
 "nbformat": 4,
 "nbformat_minor": 2
}