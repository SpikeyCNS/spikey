{
 "cells": [
  {
   "cell_type": "markdown",
   "metadata": {},
   "source": [
    "Goal is to reconstruct curves w/ limited samples & specific format of input.\n",
    "Ensure the way data is transformed and passed into the network\n",
    "perserves the information.\n",
    "\n",
    "State -> Stochastic -> State reconstruction\n",
    "\n",
    "* Nyquist frequency - maximum frequency in a signla that can be well\n",
    "  recorded given a certain samplign rate.\n",
    "* Nyquist rate - sampling rate needed to record signal well given a\n",
    "  maximum frequency in a signal."
   ]
  },
  {
   "cell_type": "code",
   "execution_count": null,
   "metadata": {},
   "outputs": [],
   "source": [
    "import numpy as np\n",
    "import matplotlib.pyplot as plt\n",
    "\n",
    "from spikey.input import *\n",
    "\n",
    "\n",
    "INPUT = RateMap\n",
    "FUNCTION = np.sin"
   ]
  },
  {
   "cell_type": "code",
   "execution_count": null,
   "metadata": {},
   "outputs": [],
   "source": [
    "## Stochastic Reconstruction vs N_INPUTS\n",
    "\"\"\"\n",
    "Noisy linear reconstruction of function with n samples.\n",
    "\n",
    "Turn the function y value into a normalized value, plug that\n",
    "value into a probability distribution and sample from processing_time\n",
    "times per input neuron. Then average the samples and estimate the\n",
    "original y value.\n",
    "\"\"\"\n",
    "\n",
    "@np.vectorize\n",
    "def get_rate(y):\n",
    "    \"\"\"\n",
    "    Effectively normalize y's to 0, 1 so the network can process.\n",
    "    \"\"\"\n",
    "    MIN, MAX = -1, 1\n",
    "\n",
    "    return (y - MIN) / (MAX - MIN)\n",
    "\n",
    "@np.vectorize\n",
    "def interpret(y, processing_time, n_inputs=1):\n",
    "    \"\"\"\n",
    "    Convert probability to group of samples and interpret.\n",
    "    \"\"\"\n",
    "    config = {\n",
    "        'n_inputs': n_inputs,\n",
    "        'magnitude': 1,\n",
    "        'firing_steps': -1,\n",
    "        'input_pct_inhibitory': 0,\n",
    "        'rate_mapping': [0, .8],\n",
    "    }\n",
    "    get_values = get_rate\n",
    "\n",
    "    reconstructor = INPUT(**config)\n",
    "    reconstructor.update(y)\n",
    "\n",
    "    return np.mean([reconstructor() for _ in range(processing_time)])\n",
    "\n",
    "processing_time = 10\n",
    "\n",
    "X = np.arange(0, 4*np.pi, .1)\n",
    "Y = FUNCTION(X)\n",
    "\n",
    "STEP = len(X) // 20\n",
    "\n",
    "x = X[::STEP]\n",
    "p_y = get_rate(Y[::STEP])"
   ]
  },
  {
   "cell_type": "code",
   "execution_count": null,
   "metadata": {},
   "outputs": [],
   "source": [
    "# Generate Reconstructions\n",
    "reconstructions = {}\n",
    "for n_inputs in [1, 5, 10]:\n",
    "    reconstructions.update({n_inputs: interpret(Y[::STEP], processing_time, n_inputs=n_inputs)})"
   ]
  },
  {
   "cell_type": "code",
   "execution_count": null,
   "metadata": {},
   "outputs": [],
   "source": [
    "# Signal and rates\n",
    "plt.scatter(X, Y, s=.1, c='red', label='real')\n",
    "plt.plot(x, p_y, c='orange', label='input_rate')\n",
    "\n",
    "for label, reconstruction in reconstructions.items():\n",
    "    plt.plot(x, reconstruction, label=f'n_inputs={label}')\n",
    "\n",
    "plt.legend()\n",
    "plt.title(\"Reconstruction vs N_INPUTS\")\n",
    "plt.xlabel(\"t\")\n",
    "plt.ylabel(\"State\")"
   ]
  },
  {
   "cell_type": "code",
   "execution_count": null,
   "metadata": {},
   "outputs": [],
   "source": [
    "# Next state space\n",
    "plt.scatter(Y[:-STEP], Y[STEP:], label='Original')\n",
    "plt.scatter(p_y[:-1], p_y[1:], label='Fire Rate')\n",
    "for label, reconstruction in reconstructions.items():\n",
    "    plt.scatter(reconstruction[:-1], reconstruction[1:], label=f'n_inputs={label}')\n",
    "\n",
    "plt.xlabel('y_t-1')\n",
    "plt.ylabel('y_t')\n",
    "plt.legend()"
   ]
  },
  {
   "cell_type": "code",
   "execution_count": null,
   "metadata": {},
   "outputs": [],
   "source": [
    "## Stochastic Reconstruction vs PROCESSING_TIME\n",
    "n_inputs = 10\n",
    "\n",
    "X = np.arange(0, 4*np.pi, .1)\n",
    "Y = FUNCTION(X)\n",
    "\n",
    "STEP = len(X) // 20\n",
    "\n",
    "x = X[::STEP]\n",
    "p_y = get_rate(Y[::STEP])"
   ]
  },
  {
   "cell_type": "code",
   "execution_count": null,
   "metadata": {},
   "outputs": [],
   "source": [
    "# Generate Reconstructions\n",
    "reconstructions = {}\n",
    "for processing_time in [1, 5, 10]:\n",
    "    reconstructions.update({processing_time: interpret(Y[::STEP], processing_time, n_inputs=n_inputs)})\n"
   ]
  },
  {
   "cell_type": "code",
   "execution_count": null,
   "metadata": {},
   "outputs": [],
   "source": [
    "# Signal and rates\n",
    "plt.scatter(X, Y, s=.1, c='red', label='real')\n",
    "plt.plot(x, p_y, c='orange', label='input_rate')\n",
    "\n",
    "for label, reconstruction in reconstructions.items():\n",
    "    plt.plot(x, reconstruction, label=f'processing_time={label}')\n",
    "\n",
    "plt.legend()\n",
    "plt.title(\"Reconstruction vs processing_time\")\n",
    "plt.xlabel(\"t\")\n",
    "plt.ylabel(\"State\")"
   ]
  },
  {
   "cell_type": "code",
   "execution_count": null,
   "metadata": {},
   "outputs": [],
   "source": [
    "# Next state space\n",
    "plt.scatter(Y[:-STEP], Y[STEP:], label='Original')\n",
    "plt.scatter(p_y[:-1], p_y[1:], label='Fire Rate')\n",
    "for label, reconstruction in reconstructions.items():\n",
    "    plt.scatter(reconstruction[:-1], reconstruction[1:], label=f'processing_time={label}')\n",
    "\n",
    "plt.xlabel('y_t-1')\n",
    "plt.ylabel('y_t')\n",
    "plt.legend()"
   ]
  },
  {
   "cell_type": "code",
   "execution_count": null,
   "metadata": {},
   "outputs": [],
   "source": []
  }
 ],
 "metadata": {
  "language_info": {
   "name": "python",
   "codemirror_mode": {
    "name": "ipython",
    "version": 3
   },
   "version": "3.7.6-final"
  },
  "orig_nbformat": 2,
  "file_extension": ".py",
  "mimetype": "text/x-python",
  "name": "python",
  "npconvert_exporter": "python",
  "pygments_lexer": "ipython3",
  "version": 3,
  "kernelspec": {
   "name": "python37664bit1466fe8d14ba450eaad73bc0bfdd77c3",
   "display_name": "Python 3.7.6 64-bit"
  }
 },
 "nbformat": 4,
 "nbformat_minor": 2
}