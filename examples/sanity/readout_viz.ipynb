{
 "cells": [
  {
   "cell_type": "markdown",
   "metadata": {},
   "source": [
    "## Vizualize population readout dynamics."
   ]
  },
  {
   "cell_type": "code",
   "execution_count": null,
   "metadata": {},
   "outputs": [],
   "source": [
    "import numpy as np\n",
    "import matplotlib.pyplot as plt\n",
    "\n",
    "from spikey.readout import *\n",
    "\n",
    "\n",
    "READOUT = Threshold"
   ]
  },
  {
   "cell_type": "code",
   "execution_count": null,
   "metadata": {},
   "outputs": [],
   "source": [
    "## Respects magnitude\n",
    "for magnitude in [1, 3, 5]:\n",
    "    X, Y = [], []\n",
    "\n",
    "    config = {\n",
    "        'n_outputs': 1,\n",
    "        'magnitude': magnitude,\n",
    "        'action_threshold': .5,\n",
    "        'output_range': [0, 1],\n",
    "    }\n",
    "    readout = READOUT(**config)\n",
    "\n",
    "    for rate in np.arange(0, 1, .1):\n",
    "        LENGTH = 100\n",
    "        spike_log = np.zeros(shape=(LENGTH, 1))\n",
    "        spike_log[:int(rate * LENGTH)] = config['magnitude']\n",
    "\n",
    "        action = readout(spike_log)\n",
    "\n",
    "        X.append(rate)\n",
    "        Y.append(action)\n",
    "\n",
    "    plt.plot(X, Y, label=magnitude)\n",
    "\n",
    "plt.xlabel(\"Firing rate\")\n",
    "plt.ylabel(\"Action\")\n",
    "plt.legend()"
   ]
  },
  {
   "cell_type": "code",
   "execution_count": null,
   "metadata": {},
   "outputs": [],
   "source": []
  }
 ],
 "metadata": {
  "language_info": {
   "name": "python",
   "codemirror_mode": {
    "name": "ipython",
    "version": 3
   },
   "version": "3.7.6-final"
  },
  "orig_nbformat": 2,
  "file_extension": ".py",
  "mimetype": "text/x-python",
  "name": "python",
  "npconvert_exporter": "python",
  "pygments_lexer": "ipython3",
  "version": 3,
  "kernelspec": {
   "name": "python37664bit1466fe8d14ba450eaad73bc0bfdd77c3",
   "display_name": "Python 3.7.6 64-bit"
  }
 },
 "nbformat": 4,
 "nbformat_minor": 2
}