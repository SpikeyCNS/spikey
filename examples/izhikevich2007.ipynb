{
 "cells": [
  {
   "cell_type": "markdown",
   "metadata": {},
   "source": [
    "Rough replication of Izhikevich's 2007 paper,\n",
    "Solving the Distal Reward Problem through linkage of STDP and Dopamine Signaling\n",
    "\n",
    "https://www.izhikevich.org/publications/dastdp.pdf\n",
    "\n",
    "Eugene M. Izhikevich(2007) Solving the Distal Reward Problem through linkage of STDP and Dopamine Signaling. Cerebral Cortex Advance Access, Jan 13, 2007. doi:10.1093/cercor/bhl152"
   ]
  },
  {
   "cell_type": "code",
   "execution_count": 1,
   "metadata": {},
   "outputs": [
    {
     "name": "stderr",
     "output_type": "stream",
     "text": [
      "/usr/local/lib/python3.10/dist-packages/tqdm/auto.py:22: TqdmWarning: IProgress not found. Please update jupyter and ipywidgets. See https://ipywidgets.readthedocs.io/en/stable/user_install.html\n",
      "  from .autonotebook import tqdm as notebook_tqdm\n"
     ]
    }
   ],
   "source": [
    "import numpy as np\n",
    "from spikey.snn import *\n",
    "from spikey.games import Logic\n",
    "from spikey.viz import print_rates, print_common_action\n",
    "\n",
    "from ray.train.torch import TorchTrainer\n",
    "from ray.air.config import ScalingConfig, RunConfig\n",
    "\n",
    "np.random.seed(0)"
   ]
  },
  {
   "cell_type": "code",
   "execution_count": 2,
   "metadata": {},
   "outputs": [],
   "source": [
    "class rand_state(Logic):\n",
    "    \"\"\"\n",
    "    A customization of the Logic game, sets the game state randomly in 0..N at each timestep.\n",
    "    \"\"\"\n",
    "    NECESSARY_KEYS = Logic.extend_keys({\"n_states\": \"Number of input groups.\"})\n",
    "    def __init__(self, **kwargs):\n",
    "        super().__init__(**kwargs)\n",
    "        self.observation_space = list(range(self._n_states))\n",
    "\n",
    "    def _get_state(self) -> np.ndarray:\n",
    "        # Randomly sample a state integer on game start and at every update\n",
    "        return np.random.randint(self._n_states)"
   ]
  },
  {
   "cell_type": "markdown",
   "metadata": {},
   "source": [
    "## Classical Conditioning\n",
    "\n",
    "In the original experiment there are N distinct input neuron groups, all pointing towards a single output group. The goal is to condition the output neurons to fire heavily in response to certain input groups, while largely ignoring others. This is accomplished by rewarding the network when the desired input groups fire to strengthen that group's connections to the outputs.\n",
    "\n",
    "Converting this description for use in the framework is straightforward, but if it's your first time needs frame of reference.\n",
    "\n",
    "1. Divide experiment into network and game mechanics.\n",
    "In this experiment the game is very simple, for each step a state in 0..N is randomly chosen that corresponds to the input group that is to fire, see rand_state in the cell above. The network will handle its own topology, input firings and reward scheme.\n",
    "\n",
    "2. Set up network inputs. \n",
    "First we split the set of input neurons into N groups, each will fire at a set rate when its respective state is active. In Spikey we accomplish this with the RateMap input type, with its state_rate_map parameter as an ndarray of all zeros except the diagonal which is set to the desired firing rate(=.2). state_rate_map can be a dictionary, ndarray or any other object that will index the state, used as group_rates = state_rate_map[state]. In this case if the state = 0, then group_rates = [.2, 0, 0, ...] which means group 0 will fire at a rate of 20% and all other groups will remain quincient. RateMap automatically divides the set of inputs into groups based on the size of the group rates vector.\n",
    "\n",
    "3. Set the topology of the network.\n",
    "Here we have a single fully connected feedforward layer, with each input connected to each output. Using the Manual weight part, we specify the network topology as a matrix in the shape (n_inputs+n_body, n_body) with n_body = n_hidden + n_output. For our purposes this looks like,\n",
    "\n",
    "```\n",
    "n_neurons\n",
    "------------------\n",
    "|   connected    |        n_inputs\n",
    "- - - - - - - - -\n",
    "|   unconnected  |        n_neurons\n",
    "------------------\n",
    "```\n",
    "\n",
    "with connected = uniform(0, 1) and unconnected = 0.\n",
    "\n",
    "4. Setup reward scheme and network readout.\n",
    "In this experiment reward is given solely based on the game state and ignores the network output. Therefore the readout function was arbitrarily chosen to be the simplest possible, a threshold function. A custom rewarder was setup in the state below, giving reward when the states is in the list 0, 3, 6 or 9."
   ]
  },
  {
   "cell_type": "code",
   "execution_count": 3,
   "metadata": {},
   "outputs": [],
   "source": [
    "class StateRewarder(reward.template.Reward):\n",
    "    FIRE_STATES = [0, 3, 6, 9]\n",
    "    def __call__(self, state, action, state_next):\n",
    "        # Give reward when state in desired states\n",
    "        if state in self.FIRE_STATES:\n",
    "            return self._reward_mult\n",
    "        else:\n",
    "            return self._punish_mult"
   ]
  },
  {
   "cell_type": "code",
   "execution_count": 4,
   "metadata": {},
   "outputs": [],
   "source": [
    "training_params = {\n",
    "    'n_episodes': 5,\n",
    "    'len_episode': 100,\n",
    "}"
   ]
  },
  {
   "cell_type": "code",
   "execution_count": 5,
   "metadata": {},
   "outputs": [],
   "source": [
    "N_STATES = 10\n",
    "N_INPUTS = 100\n",
    "N_NEURONS = 50\n",
    "N_OUTPUTS = N_NEURONS\n",
    "\n",
    "w_matrix = np.vstack((  # Feedforward, no hidden layers\n",
    "    np.random.uniform(0, .5, (N_INPUTS, N_NEURONS)),\n",
    "    np.zeros((N_NEURONS, N_NEURONS)),\n",
    "))\n",
    "\n",
    "# When state is 1 neuron group 1 fires, ...\n",
    "state_rate_map = np.zeros((N_STATES, N_STATES))\n",
    "for state in range(N_STATES):\n",
    "    state_rate_map[state, state] = .2\n",
    "\n",
    "class network_template(RLNetwork):\n",
    "    parts = {\n",
    "        \"inputs\": input.RateMap,\n",
    "        \"neurons\": neuron.Neuron,\n",
    "        \"synapses\": synapse.LTP,\n",
    "        \"weights\": weight.Manual,\n",
    "        \"readout\": readout.Threshold,\n",
    "        \"rewarder\": StateRewarder,\n",
    "    }\n",
    "    keys = {\n",
    "        \"n_inputs\": N_INPUTS,\n",
    "        \"n_neurons\": N_NEURONS,\n",
    "        \"n_outputs\": N_OUTPUTS,\n",
    "        \"matrix\": w_matrix,\n",
    "        \"magnitude\": 1,\n",
    "        \"potential_decay\": .05,\n",
    "\n",
    "        \"n_states\": N_STATES,\n",
    "        \"refractory_period\": 0,\n",
    "        \"firing_threshold\": 8,\n",
    "\n",
    "        \"processing_time\": 100,\n",
    "        \"learning_rate\": .1,\n",
    "        \"max_weight\": 2,\n",
    "        \"stdp_window\": 100,\n",
    "\n",
    "        \"reward_mult\": 1,\n",
    "        \"punish_mult\": 0,\n",
    "        \"action_threshold\": .0,  # Does not matter\n",
    "\n",
    "        \"state_rate_map\": state_rate_map, \n",
    "    }"
   ]
  },
  {
   "cell_type": "code",
   "execution_count": 6,
   "metadata": {},
   "outputs": [],
   "source": [
    "def train_func(config):\n",
    "    network_template.keys.update(config)\n",
    "    game = rand_state(**network_template.keys)\n",
    "    model = network_template()\n",
    "\n",
    "    inrates = []\n",
    "    outrates = []\n",
    "    states = []\n",
    "    actions = []\n",
    "    for epoch in range(5):\n",
    "        model.reset()\n",
    "        state = game.reset()\n",
    "        state_next = None\n",
    "\n",
    "        inrates.append([])\n",
    "        outrates.append([])\n",
    "        states.append([])\n",
    "        actions.append([])\n",
    "        for s in range(100):\n",
    "            action = model.tick(state)\n",
    "            state_next, _, done, __ = game.step(action)\n",
    "            reward = model.reward(state, action, state_next)\n",
    "\n",
    "            inrates[-1].append(np.mean(np.abs(model.spike_log[-model._processing_time:, :model._n_inputs])))\n",
    "            outrates[-1].append(np.mean(np.abs(model.spike_log[-model._processing_time:, -model._n_outputs:])))\n",
    "            states[-1].append(state)\n",
    "            actions[-1].append(action)\n",
    "\n",
    "            state = state_next\n",
    "            if done:\n",
    "                break\n",
    "\n",
    "    print(\"Firing states:\", StateRewarder.FIRE_STATES)\n",
    "    print_rates(step_inrates=inrates, step_outrates=outrates, step_states=states, observation_space=game.observation_space)\n",
    "\n",
    "    return {}"
   ]
  },
  {
   "cell_type": "code",
   "execution_count": 7,
   "metadata": {},
   "outputs": [
    {
     "data": {
      "text/html": [],
      "text/plain": [
       "<IPython.core.display.HTML object>"
      ]
     },
     "metadata": {},
     "output_type": "display_data"
    },
    {
     "name": "stderr",
     "output_type": "stream",
     "text": [
      "\u001b[2m\u001b[36m(RayTrainWorker pid=15639)\u001b[0m 2022-12-11 08:04:30,393\tINFO config.py:87 -- Setting up process group for: env:// [rank=0, world_size=1]\n"
     ]
    },
    {
     "name": "stdout",
     "output_type": "stream",
     "text": [
      "\u001b[2m\u001b[36m(RayTrainWorker pid=15639)\u001b[0m Firing states: [0, 3, 6, 9]\n",
      "\u001b[2m\u001b[36m(RayTrainWorker pid=15639)\u001b[0m 0: 0.02 -> 0.03\n",
      "\u001b[2m\u001b[36m(RayTrainWorker pid=15639)\u001b[0m 1: 0.02 -> 0.03\n",
      "\u001b[2m\u001b[36m(RayTrainWorker pid=15639)\u001b[0m 2: 0.02 -> 0.03\n",
      "\u001b[2m\u001b[36m(RayTrainWorker pid=15639)\u001b[0m 3: 0.02 -> 0.03\n",
      "\u001b[2m\u001b[36m(RayTrainWorker pid=15639)\u001b[0m 4: 0.02 -> 0.03\n",
      "\u001b[2m\u001b[36m(RayTrainWorker pid=15639)\u001b[0m 5: 0.02 -> 0.04\n",
      "\u001b[2m\u001b[36m(RayTrainWorker pid=15639)\u001b[0m 6: 0.02 -> 0.04\n",
      "\u001b[2m\u001b[36m(RayTrainWorker pid=15639)\u001b[0m 7: 0.02 -> 0.03\n",
      "\u001b[2m\u001b[36m(RayTrainWorker pid=15639)\u001b[0m 8: 0.02 -> 0.03\n",
      "\u001b[2m\u001b[36m(RayTrainWorker pid=15639)\u001b[0m 9: 0.02 -> 0.03\n"
     ]
    },
    {
     "name": "stderr",
     "output_type": "stream",
     "text": [
      "2022-12-11 08:04:40,391\tERROR checkpoint_manager.py:327 -- Result dict has no key: training_iteration. checkpoint_score_attr must be set to a key in the result dict. Valid keys are: ['trial_id', 'experiment_id', 'date', 'timestamp', 'pid', 'hostname', 'node_ip', 'done']\n"
     ]
    },
    {
     "name": "stdout",
     "output_type": "stream",
     "text": [
      "Trial TorchTrainer_7c824_00000 completed. Last result: \n"
     ]
    }
   ],
   "source": [
    "# Control, without learning\n",
    "trainer = TorchTrainer(\n",
    "    train_func,\n",
    "    train_loop_config={'learning_rate': 0, 'n_episodes': 1},\n",
    "    scaling_config=ScalingConfig(num_workers=1),\n",
    "    run_config=RunConfig(verbose=0),\n",
    ")\n",
    "results = trainer.fit()"
   ]
  },
  {
   "cell_type": "code",
   "execution_count": 8,
   "metadata": {},
   "outputs": [
    {
     "data": {
      "text/html": [],
      "text/plain": [
       "<IPython.core.display.HTML object>"
      ]
     },
     "metadata": {},
     "output_type": "display_data"
    },
    {
     "name": "stderr",
     "output_type": "stream",
     "text": [
      "\u001b[2m\u001b[36m(RayTrainWorker pid=15717)\u001b[0m 2022-12-11 08:04:44,722\tINFO config.py:87 -- Setting up process group for: env:// [rank=0, world_size=1]\n"
     ]
    },
    {
     "name": "stdout",
     "output_type": "stream",
     "text": [
      "\u001b[2m\u001b[36m(RayTrainWorker pid=15717)\u001b[0m Firing states: [0, 3, 6, 9]\n",
      "\u001b[2m\u001b[36m(RayTrainWorker pid=15717)\u001b[0m 0: 0.02 -> 0.26\n",
      "\u001b[2m\u001b[36m(RayTrainWorker pid=15717)\u001b[0m 1: 0.02 -> 0.03\n",
      "\u001b[2m\u001b[36m(RayTrainWorker pid=15717)\u001b[0m 2: 0.02 -> 0.03\n",
      "\u001b[2m\u001b[36m(RayTrainWorker pid=15717)\u001b[0m 3: 0.02 -> 0.31\n",
      "\u001b[2m\u001b[36m(RayTrainWorker pid=15717)\u001b[0m 4: 0.02 -> 0.03\n",
      "\u001b[2m\u001b[36m(RayTrainWorker pid=15717)\u001b[0m 5: 0.02 -> 0.03\n",
      "\u001b[2m\u001b[36m(RayTrainWorker pid=15717)\u001b[0m 6: 0.02 -> 0.29\n",
      "\u001b[2m\u001b[36m(RayTrainWorker pid=15717)\u001b[0m 7: 0.02 -> 0.04\n",
      "\u001b[2m\u001b[36m(RayTrainWorker pid=15717)\u001b[0m 8: 0.02 -> 0.03\n",
      "\u001b[2m\u001b[36m(RayTrainWorker pid=15717)\u001b[0m 9: 0.02 -> 0.25\n"
     ]
    },
    {
     "name": "stderr",
     "output_type": "stream",
     "text": [
      "2022-12-11 08:04:55,000\tERROR checkpoint_manager.py:327 -- Result dict has no key: training_iteration. checkpoint_score_attr must be set to a key in the result dict. Valid keys are: ['trial_id', 'experiment_id', 'date', 'timestamp', 'pid', 'hostname', 'node_ip', 'done']\n"
     ]
    },
    {
     "name": "stdout",
     "output_type": "stream",
     "text": [
      "Trial TorchTrainer_84d91_00000 completed. Last result: \n"
     ]
    }
   ],
   "source": [
    "# Real test\n",
    "trainer = TorchTrainer(\n",
    "    train_func,\n",
    "    scaling_config=ScalingConfig(num_workers=1),\n",
    "    run_config=RunConfig(verbose=0),\n",
    ")\n",
    "results = trainer.fit()"
   ]
  },
  {
   "cell_type": "markdown",
   "metadata": {},
   "source": [
    "## Classical Conditioning with Ordinal Output\n",
    "\n",
    "On top of the last experiment, here network outputs are split into two groups. The networks output is equal to the highest firing group, eg if group 0 fires more than any other group the network outputs a 0. The network is conditioned to output a 0 for states 2, 3, 6 and 8 and a 1 otherwise.\n",
    "\n",
    "A variation of the population vector readout was used, defined in the cell below. The base population vector readout returns a relative firing rate per each input group, eg [.25, .75], our custom MaxGroup readout takes this output and returns the index of the max group, eg 0 or 1.\n",
    "\n",
    "A custom rewarder was used to reward the network when the correct group fires the most."
   ]
  },
  {
   "cell_type": "code",
   "execution_count": 9,
   "metadata": {},
   "outputs": [
    {
     "name": "stderr",
     "output_type": "stream",
     "text": [
      "/tmp/ipykernel_13643/56251338.py:2: DeprecationWarning: `np.bool` is a deprecated alias for the builtin `bool`. To silence this warning, use `bool` by itself. Doing this will not modify any behavior and is safe. If you specifically wanted the numpy scalar type, use `np.bool_` here.\n",
      "Deprecated in NumPy 1.20; for more details and guidance: https://numpy.org/devdocs/release/1.20.0-notes.html#deprecations\n",
      "  def __call__(self, output_spike_train: np.bool) -> np.float:\n",
      "/tmp/ipykernel_13643/56251338.py:2: DeprecationWarning: `np.float` is a deprecated alias for the builtin `float`. To silence this warning, use `float` by itself. Doing this will not modify any behavior and is safe. If you specifically wanted the numpy scalar type, use `np.float64` here.\n",
      "Deprecated in NumPy 1.20; for more details and guidance: https://numpy.org/devdocs/release/1.20.0-notes.html#deprecations\n",
      "  def __call__(self, output_spike_train: np.bool) -> np.float:\n"
     ]
    }
   ],
   "source": [
    "class MaxGroup(readout.PopulationVector):\n",
    "    def __call__(self, output_spike_train: np.bool) -> np.float:\n",
    "        # Network reads out index of highest firing output group\n",
    "        population_vector = super().__call__(output_spike_train)\n",
    "        return np.argmax(population_vector)"
   ]
  },
  {
   "cell_type": "code",
   "execution_count": 10,
   "metadata": {},
   "outputs": [],
   "source": [
    "class OrdinalRewarder(reward.template.Reward):\n",
    "    A_STATES = [2, 3, 6, 8]\n",
    "    def __call__(self, state, action, state_next):\n",
    "        # Expect network to output A(0) when current state in states listed,\n",
    "        # otherwise B(0)\n",
    "        if action == (state in self.A_STATES):\n",
    "            return self._reward_mult\n",
    "        else:\n",
    "            return self._punish_mult"
   ]
  },
  {
   "cell_type": "code",
   "execution_count": 11,
   "metadata": {},
   "outputs": [],
   "source": [
    "training_params = {\n",
    "    'n_episodes': 10,\n",
    "    'len_episode': 100,\n",
    "}"
   ]
  },
  {
   "cell_type": "code",
   "execution_count": 12,
   "metadata": {},
   "outputs": [],
   "source": [
    "N_STATES = 10\n",
    "N_INPUTS = 100\n",
    "N_NEURONS = 60\n",
    "N_OUTPUTS = N_NEURONS\n",
    "\n",
    "w_matrix = np.vstack((  # Feedforward, no hidden layers\n",
    "    np.random.uniform(0, 1, (N_INPUTS, N_NEURONS)),\n",
    "    np.zeros((N_NEURONS, N_NEURONS)),\n",
    "))\n",
    "\n",
    "# When state is 1 neuron group 1 fires, ...\n",
    "state_rate_map = np.zeros((N_STATES, N_STATES), dtype=float)\n",
    "for state in range(N_STATES):\n",
    "    state_rate_map[state, state] = .2\n",
    "\n",
    "class network_template(RLNetwork):\n",
    "    parts = {\n",
    "        \"inputs\": input.RateMap,\n",
    "        \"neurons\": neuron.Neuron,\n",
    "        \"synapses\": synapse.LTP,\n",
    "        \"weights\": weight.Manual,\n",
    "        \"readout\": MaxGroup,\n",
    "        \"rewarder\": OrdinalRewarder,\n",
    "    }\n",
    "    keys = {\n",
    "        \"n_inputs\": N_INPUTS,\n",
    "        'n_neurons': N_NEURONS,\n",
    "        \"n_outputs\": N_OUTPUTS,\n",
    "        \"matrix\": w_matrix,\n",
    "        \"magnitude\": 1,\n",
    "        \"potential_decay\": .05,\n",
    "\n",
    "        \"n_states\": N_STATES,\n",
    "        \"refractory_period\": 0,\n",
    "        \"firing_threshold\": 8,\n",
    "\n",
    "        \"processing_time\": 100,\n",
    "        \"learning_rate\": .1,\n",
    "        \"max_weight\": 2,\n",
    "        \"stdp_window\": 100,\n",
    "\n",
    "        \"reward_mult\": 1,\n",
    "        \"punish_mult\": 0,\n",
    "        \"n_actions\": 2,\n",
    "\n",
    "        \"state_rate_map\": state_rate_map,\n",
    "    }"
   ]
  },
  {
   "cell_type": "code",
   "execution_count": 13,
   "metadata": {},
   "outputs": [],
   "source": [
    "def train_func():\n",
    "    game = rand_state(**network_template.keys)\n",
    "    model = network_template()\n",
    "\n",
    "    inrates = []\n",
    "    states = []\n",
    "    actions = []\n",
    "    for epoch in range(5):\n",
    "        model.reset()\n",
    "        state = game.reset()\n",
    "        state_next = None\n",
    "\n",
    "        inrates.append([])\n",
    "        states.append([])\n",
    "        actions.append([])\n",
    "        for s in range(100):\n",
    "            action = model.tick(state)\n",
    "            state_next, _, done, __ = game.step(action)\n",
    "            reward = model.reward(state, action, state_next)\n",
    "\n",
    "            inrates[-1].append(np.mean(np.abs(model.spike_log[-model._processing_time:, :model._n_inputs])))\n",
    "            states[-1].append(state)\n",
    "            actions[-1].append(action)\n",
    "\n",
    "            state = state_next\n",
    "            if done:\n",
    "                break\n",
    "\n",
    "    print(\"A States:\", OrdinalRewarder.A_STATES)\n",
    "    print(\"Initial Responses\")\n",
    "    print_common_action(step_inrates=inrates, step_actions=actions, step_states=states, observation_space=game.observation_space, episode=0)\n",
    "    print(\"\\nFinal Responses\")\n",
    "    print_common_action(step_inrates=inrates, step_actions=actions, step_states=states, observation_space=game.observation_space, episode=-1)\n",
    "\n",
    "    return {}"
   ]
  },
  {
   "cell_type": "code",
   "execution_count": 14,
   "metadata": {},
   "outputs": [
    {
     "data": {
      "text/html": [],
      "text/plain": [
       "<IPython.core.display.HTML object>"
      ]
     },
     "metadata": {},
     "output_type": "display_data"
    },
    {
     "name": "stderr",
     "output_type": "stream",
     "text": [
      "\u001b[2m\u001b[36m(RayTrainWorker pid=15785)\u001b[0m 2022-12-11 08:04:59,260\tINFO config.py:87 -- Setting up process group for: env:// [rank=0, world_size=1]\n"
     ]
    },
    {
     "name": "stdout",
     "output_type": "stream",
     "text": [
      "\u001b[2m\u001b[36m(RayTrainWorker pid=15785)\u001b[0m A States: [2, 3, 6, 8]\n",
      "\u001b[2m\u001b[36m(RayTrainWorker pid=15785)\u001b[0m Initial Responses\n",
      "\u001b[2m\u001b[36m(RayTrainWorker pid=15785)\u001b[0m 0: 0.0189 -> A(0). counts=[4 1]\n",
      "\u001b[2m\u001b[36m(RayTrainWorker pid=15785)\u001b[0m 1: 0.0205 -> B(1). counts=[2 8]\n",
      "\u001b[2m\u001b[36m(RayTrainWorker pid=15785)\u001b[0m 2: 0.0187 -> A(0). counts=[6]\n",
      "\u001b[2m\u001b[36m(RayTrainWorker pid=15785)\u001b[0m 3: 0.0204 -> B(1). counts=[5 7]\n",
      "\u001b[2m\u001b[36m(RayTrainWorker pid=15785)\u001b[0m 4: 0.0200 -> B(1). counts=[5 9]\n",
      "\u001b[2m\u001b[36m(RayTrainWorker pid=15785)\u001b[0m 5: 0.0210 -> B(1). counts=[15]\n",
      "\u001b[2m\u001b[36m(RayTrainWorker pid=15785)\u001b[0m 6: 0.0197 -> A(0). counts=[11  1]\n",
      "\u001b[2m\u001b[36m(RayTrainWorker pid=15785)\u001b[0m 7: 0.0208 -> A(0). counts=[7]\n",
      "\u001b[2m\u001b[36m(RayTrainWorker pid=15785)\u001b[0m 8: 0.0203 -> B(1). counts=[3 6]\n",
      "\u001b[2m\u001b[36m(RayTrainWorker pid=15785)\u001b[0m 9: 0.0200 -> B(1). counts=[10]\n",
      "\u001b[2m\u001b[36m(RayTrainWorker pid=15785)\u001b[0m \n",
      "\u001b[2m\u001b[36m(RayTrainWorker pid=15785)\u001b[0m Final Responses\n",
      "\u001b[2m\u001b[36m(RayTrainWorker pid=15785)\u001b[0m 0: 0.0196 -> B(1). counts=[10]\n",
      "\u001b[2m\u001b[36m(RayTrainWorker pid=15785)\u001b[0m 1: 0.0205 -> B(1). counts=[15]\n",
      "\u001b[2m\u001b[36m(RayTrainWorker pid=15785)\u001b[0m 2: 0.0194 -> A(0). counts=[10]\n",
      "\u001b[2m\u001b[36m(RayTrainWorker pid=15785)\u001b[0m 3: 0.0201 -> A(0). counts=[14]\n",
      "\u001b[2m\u001b[36m(RayTrainWorker pid=15785)\u001b[0m 4: 0.0200 -> B(1). counts=[11]\n",
      "\u001b[2m\u001b[36m(RayTrainWorker pid=15785)\u001b[0m 5: 0.0199 -> B(1). counts=[7]\n",
      "\u001b[2m\u001b[36m(RayTrainWorker pid=15785)\u001b[0m 6: 0.0201 -> A(0). counts=[8]\n",
      "\u001b[2m\u001b[36m(RayTrainWorker pid=15785)\u001b[0m 7: 0.0199 -> A(0). counts=[8]\n",
      "\u001b[2m\u001b[36m(RayTrainWorker pid=15785)\u001b[0m 8: 0.0204 -> A(0). counts=[13]\n",
      "\u001b[2m\u001b[36m(RayTrainWorker pid=15785)\u001b[0m 9: 0.0199 -> B(1). counts=[4]\n"
     ]
    },
    {
     "name": "stderr",
     "output_type": "stream",
     "text": [
      "2022-12-11 08:05:08,623\tERROR checkpoint_manager.py:327 -- Result dict has no key: training_iteration. checkpoint_score_attr must be set to a key in the result dict. Valid keys are: ['trial_id', 'experiment_id', 'date', 'timestamp', 'pid', 'hostname', 'node_ip', 'done']\n"
     ]
    },
    {
     "name": "stdout",
     "output_type": "stream",
     "text": [
      "Trial TorchTrainer_8db8e_00000 completed. Last result: \n"
     ]
    }
   ],
   "source": [
    "trainer = TorchTrainer(\n",
    "    train_func,\n",
    "    scaling_config=ScalingConfig(num_workers=1),\n",
    "    run_config=RunConfig(verbose=0),\n",
    ")\n",
    "results = trainer.fit()"
   ]
  },
  {
   "cell_type": "code",
   "execution_count": null,
   "metadata": {},
   "outputs": [],
   "source": []
  }
 ],
 "metadata": {
  "kernelspec": {
   "display_name": "Python 3.10.4 64-bit",
   "language": "python",
   "name": "python3"
  },
  "language_info": {
   "codemirror_mode": {
    "name": "ipython",
    "version": 3
   },
   "file_extension": ".py",
   "mimetype": "text/x-python",
   "name": "python",
   "nbconvert_exporter": "python",
   "pygments_lexer": "ipython3",
   "version": "3.10.4"
  },
  "metadata": {
   "interpreter": {
    "hash": "c671e72284273e5be387b60af2ce98411d2fa29290b07b37da2690b81960f96b"
   }
  },
  "orig_nbformat": 2,
  "vscode": {
   "interpreter": {
    "hash": "e7370f93d1d0cde622a1f8e1c04877d8463912d04d973331ad4851f04de6915a"
   }
  }
 },
 "nbformat": 4,
 "nbformat_minor": 2
}
