{
 "cells": [
  {
   "cell_type": "markdown",
   "metadata": {},
   "source": [
    "## Series Analysis\n",
    "\n",
    "A notebook to analyze the results of Series, a parameterized series of experiments. See examples/run_series."
   ]
  },
  {
   "cell_type": "code",
   "execution_count": null,
   "metadata": {},
   "outputs": [],
   "source": [
    "import os\n",
    "import pandas as pd\n",
    "from IPython.display import display, HTML\n",
    "from spikey.logging import Reader"
   ]
  },
  {
   "cell_type": "code",
   "execution_count": null,
   "metadata": {},
   "outputs": [],
   "source": [
    "# Folder containing log files from a series of experiments\n",
    "RESULTS_FOLDER = os.path.join('..', 'log', 'control')"
   ]
  },
  {
   "cell_type": "code",
   "execution_count": null,
   "metadata": {},
   "outputs": [],
   "source": [
    "reader = Reader(folder=RESULTS_FOLDER)\n",
    "reader.summary"
   ]
  },
  {
   "cell_type": "code",
   "execution_count": null,
   "metadata": {},
   "outputs": [],
   "source": [
    "# TODO Not friendly with multi parameter series eg [('stdp_window', [40, 50, 60]), ('processing_time', [100, 200])]\n",
    "experiment_params = reader.summary['results']['experiment_params']\n",
    "if experiment_params is None:\n",
    "    param_key = 'control'\n",
    "    param_range = [None]\n",
    "else:\n",
    "    param_key = experiment_params[0]\n",
    "    param_range = experiment_params[1]"
   ]
  },
  {
   "cell_type": "code",
   "execution_count": null,
   "metadata": {},
   "outputs": [],
   "source": [
    "# Quartiles Table\n",
    "result_key = \"total_time\"\n",
    "columns = [result_key, f'25% {result_key}', f'50% {result_key}', f'75% {result_key}', f'std {result_key}']\n",
    "quartiles = pd.DataFrame(columns=columns)\n",
    "\n",
    "for i, param in enumerate(param_range):\n",
    "    values = reader[result_key]\n",
    "    if param_key != 'control':\n",
    "        values = values[reader[param_key] == param]\n",
    "    quartiles.loc[i] = [\n",
    "        result_key, \n",
    "        *values.quantile([.25, .5, .75]),\n",
    "        values.std(),\n",
    "    ]\n",
    "display(HTML(quartiles.to_html()))\n",
    "del values, quartiles"
   ]
  },
  {
   "cell_type": "code",
   "execution_count": null,
   "metadata": {},
   "outputs": [],
   "source": []
  }
 ],
 "metadata": {
  "language_info": {
   "name": "python",
   "codemirror_mode": {
    "name": "ipython",
    "version": 3
   },
   "version": "3.8.5-final"
  },
  "orig_nbformat": 2,
  "file_extension": ".py",
  "mimetype": "text/x-python",
  "name": "python",
  "npconvert_exporter": "python",
  "pygments_lexer": "ipython3",
  "version": 3,
  "kernelspec": {
   "name": "0b662b53-0077-4ef3-b548-f606fd57e5ac",
   "display_name": "'Python Interactive'",
   "language": "python"
  }
 },
 "nbformat": 4,
 "nbformat_minor": 2
}