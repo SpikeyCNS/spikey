{
 "metadata": {
  "language_info": {
   "codemirror_mode": {
    "name": "ipython",
    "version": 3
   },
   "file_extension": ".py",
   "mimetype": "text/x-python",
   "name": "python",
   "nbconvert_exporter": "python",
   "pygments_lexer": "ipython3",
   "version": "3.8.5"
  },
  "orig_nbformat": 2,
  "kernelspec": {
   "name": "python385jvsc74a57bd0c671e72284273e5be387b60af2ce98411d2fa29290b07b37da2690b81960f96b",
   "display_name": "Python 3.8.5 64-bit ('Python38')"
  },
  "metadata": {
   "interpreter": {
    "hash": "c671e72284273e5be387b60af2ce98411d2fa29290b07b37da2690b81960f96b"
   }
  }
 },
 "nbformat": 4,
 "nbformat_minor": 2,
 "cells": [
  {
   "source": [
    "Replication of Florian 2007 XOR gate experiments.\n",
    "* Rate based input coding\n",
    "* Temporal pattern coding\n",
    "\n",
    "https://www.florian.io/papers/2007_Florian_Modulated_STDP.pdf\n",
    "\n",
    "Florian R (2007) Reinforcement Learning Through Modulation of Spike-Timing-Dependent Synaptic Plasticity. Neural Computation 19(6). https://doi.org/10.1162/neco.2007.19.6.1468"
   ],
   "cell_type": "markdown",
   "metadata": {}
  },
  {
   "cell_type": "code",
   "execution_count": 1,
   "metadata": {},
   "outputs": [],
   "source": [
    "import numpy as np\n",
    "\n",
    "from spikey.snn import *\n",
    "from spikey.core import GenericLoop, RLCallback\n",
    "from spikey.RL import Logic\n",
    "from spikey.viz import print_rates\n",
    "\n",
    "np.random.seed(0)"
   ]
  },
  {
   "cell_type": "code",
   "execution_count": 2,
   "metadata": {},
   "outputs": [],
   "source": [
    "def print_w_diffs(callback, training_params, layer_cutoff=None):\n",
    "    network = callback.network\n",
    "    info = callback.info\n",
    "\n",
    "    layer_cutoff = layer_cutoff or network._n_inputs\n",
    "\n",
    "    original_w = info['weights_original']\n",
    "    final_w = network.synapses.weights.matrix\n",
    "\n",
    "    print(f\"{np.sum(original_w[:, :layer_cutoff]):.0f} -> {np.sum(final_w[:, :layer_cutoff]):.0f}\")\n",
    "    print(f\"{np.sum(original_w[:, layer_cutoff:]):.0f} -> {np.sum(final_w[:, layer_cutoff:]):.0f}\")"
   ]
  },
  {
   "cell_type": "code",
   "execution_count": 3,
   "metadata": {},
   "outputs": [],
   "source": [
    "def print_success(callback, training_params):\n",
    "    info = callback.info\n",
    "\n",
    "    states = np.array(info['step_states']).reshape((-1, 2))\n",
    "    inrates = np.array(info['step_inrates']).reshape((-1))\n",
    "    sysrates = np.array(info['step_sysrates']).reshape((-1))\n",
    "    outrates = np.array(info['step_outrates']).reshape((-1))\n",
    "\n",
    "    HIGH = [[False, True], [True, False]]\n",
    "    LOW =  [[False, False], [True, True]]\n",
    "\n",
    "    relevant_timeframe = training_params['eval_steps'] // 4\n",
    "\n",
    "    high_rate = min([np.mean(outrates[np.all(states == state, axis=1)][-relevant_timeframe:]) for state in HIGH])\n",
    "    low_rate = max([np.mean(outrates[np.all(states == state, axis=1)][-relevant_timeframe:]) for state in LOW])\n",
    "\n",
    "    print(high_rate, low_rate)\n",
    "    florian_win = high_rate > low_rate + .02\n",
    "\n",
    "    correct = 0\n",
    "    for i in range(training_params['eval_steps']):\n",
    "        state = states[-i]\n",
    "        rate = outrates[-i]\n",
    "\n",
    "        if np.sum(state) % 2:\n",
    "            correct += int(rate > low_rate)\n",
    "        else:\n",
    "            correct += int(rate < high_rate)\n",
    "\n",
    "    florian_accuracy = correct / training_params['eval_steps']\n",
    "\n",
    "    print(f\"Florian - Win: {florian_win}, Accuracy: {florian_accuracy}\")"
   ]
  },
  {
   "cell_type": "code",
   "execution_count": 4,
   "metadata": {},
   "outputs": [],
   "source": [
    "def print_runtime(callback):\n",
    "    print(f\"{callback.results['total_time']:.2f}s\")"
   ]
  },
  {
   "cell_type": "code",
   "execution_count": 5,
   "metadata": {},
   "outputs": [],
   "source": [
    "class FlorianReward(spikey.snn.reward.template.Reward):\n",
    "    def __call__(self, state, action, state_next):\n",
    "        if sum(state) % 2 == 1:  # (0, 1) and (1, 0)\n",
    "            return self._reward_mult if action == True else 0\n",
    "        else:  # (0, 0) and (1, 1)\n",
    "            return -self._punish_mult if action == True else 0"
   ]
  },
  {
   "source": [
    "## Rate Coding\n",
    "\n",
    "The goal of this experiment is to train a spiking neural network to mimic a XOR gate, meaning it will take two binary inputs and return one binary output. The desired input output mapping is as follows,\n",
    "```\n",
    "0, 0 -> 0\n",
    "0, 1 -> 1\n",
    "1, 0 -> 1\n",
    "1, 1 -> 0\n",
    "```\n",
    "In this specific experiment the inputs are rate coded. There are two input groups, corresponding to the two boolean inputs. If the specific input is 0, its group will not fire at all, otherwise it will at a rate of 40hz. There should be 60 input neurons(30 per group), 60 hidden and 1 output neuron with each layer fully connected to the next. Each input pattern would be presented to the network for 500ms, with 800 patterns being shown in total. While a pattern is being shown, if the correct output is 1, whenever the network's output neuron fires it recieves a reward of 1. Otherwise when the network's output fires it recieves a reward of -1.\n",
    "\n",
    "Converting this description for use in the framework is straightforward, but if it's your first time(s) needs a frame of reference.\n",
    "\n",
    "1. Divide experiment into network and game mechanics.\n",
    "Splitting the mechanics of the network and game here are simple, the game simply gives two random boolean inputs at every timestep and the network respond to these inputs.\n",
    "\n",
    "2. Set up network inputs.\n",
    "We use the RateMap input type for this experiment. The main parameter of this input type is 'state_rate_map' for which we construct a dictionary as follows,\n",
    "```\n",
    "LOW_RATE = 0\n",
    "HIGH_RATE = frequency / steps per pattern = 40 / 500\n",
    "state_rate_map = {\n",
    "    (0, 0): [LOW_RATE, LOW_RATE],\n",
    "    (0, 1): [LOW_RATE, HIGH_RATE],\n",
    "    (1, 0): [HIGH_RATE, LOW_RATE],\n",
    "    (1, 1): [HIGH_RATE, HIGH_RATE],\n",
    "}\n",
    "```\n",
    "The RateMap will do the work to split the input neurons into two groups, each with a respective rate given by state_rate_map\\[current_state].\n",
    "\n",
    "3. Set topology of network.\n",
    "For this we use a manually configured network. We give it one matrix for each layer: the input-hidden and hidden-output layers.\n",
    "Each initial weight value is sampled uniformly between 0 and .2, with these parameters chosen by trial and error.\n",
    "```\n",
    "w_matrix = [\n",
    "    np.random.uniform(0, .2, (N_INPUTS, N_HIDDEN)),\n",
    "    np.random.uniform(0, .2, (N_HIDDEN, N_OUTPUTS)),\n",
    "]\n",
    "```\n",
    "\n",
    "4. Set reward scheme and network readout.\n",
    "This is typically the most complex part of constructing an experiment with spikey, and this example is no different.\n",
    "Here we use the ActiveRLNetwork base so that our reward function is called at every network update, whereas RLNetwork calls the reward every game step, or every PROCESSING_TIME network steps.\n",
    "In conjunction we use the parameter continuous_rwd_action in place of the Readout part since the Readout is only meant to apply at every game step. continuous_rwd_action will tell the rewarder whether or not the output neuron fired via the action paramterer.\n",
    "Finally we use the custom Florian rewarder(defined in the cell above) that functions exactly as the original experiment states. If the expected action is one, a reward is given on every output spike. Otherwise a punishment is given on every output spike.\n",
    "\n",
    "5. Set other parameters.\n",
    "Most of the other parameters are taken directly from the paper or are intuitively chosen.\n"
   ],
   "cell_type": "markdown",
   "metadata": {}
  },
  {
   "cell_type": "code",
   "execution_count": 6,
   "metadata": {},
   "outputs": [],
   "source": [
    "training_params = {\n",
    "    'n_episodes': 1,\n",
    "    'len_episode': 800,\n",
    "    'eval_steps': 50, \n",
    "}"
   ]
  },
  {
   "cell_type": "code",
   "execution_count": 7,
   "metadata": {},
   "outputs": [],
   "source": [
    "N_INPUTS = 60\n",
    "N_NEURONS = 61\n",
    "N_OUTPUTS = 1\n",
    "N_HIDDEN = N_NEURONS - N_OUTPUTS\n",
    "PROCESSING_TIME = 500\n",
    "\n",
    "w_matrix = [\n",
    "    np.random.uniform(0, .2, (N_INPUTS, N_HIDDEN)),\n",
    "    np.random.uniform(0, .2, (N_HIDDEN, N_OUTPUTS)),\n",
    "]\n",
    "\n",
    "LOW_RATE = 0\n",
    "HIGH_RATE = 40 / PROCESSING_TIME\n",
    "state_rate_map = {# 2 input groups. 0hz when group false, 40hz when true\n",
    "    (0, 0): np.array([LOW_RATE, LOW_RATE]),\n",
    "    (0, 1): np.array([LOW_RATE, HIGH_RATE]),\n",
    "    (1, 0): np.array([HIGH_RATE, LOW_RATE]),\n",
    "    (1, 1): np.array([HIGH_RATE, HIGH_RATE]),\n",
    "}\n",
    "\n",
    "class network_template(ActiveRLNetwork):\n",
    "    parts = {\n",
    "        'inputs': input.RateMap,\n",
    "        'neurons': neuron.Neuron,\n",
    "        'synapses': synapse.RLSTDP,\n",
    "        'weights': weight.Manual,\n",
    "        'readout': readout.Threshold,\n",
    "        'rewarder': FlorianReward,\n",
    "    }\n",
    "    keys = {\n",
    "        \"n_inputs\": N_INPUTS,\n",
    "        'n_neurons': N_NEURONS,\n",
    "        \"n_outputs\": N_OUTPUTS,\n",
    "        'matrix': w_matrix,\n",
    "\n",
    "        'input_pct_inhibitory': .5,\n",
    "        'neuron_pct_inhibitory': 0,\n",
    "        'magnitude': 1,\n",
    "        'firing_threshold': 16,\n",
    "        'refractory_period': 0,  # Gutig, Aharonov, Rotter, & Sompolinsky 2003\n",
    "        'prob_rand_fire': .15,\n",
    "        'potential_decay': .05,  # Decay constant Tau=20ms, lambda=e^(-t/T)\n",
    "        'trace_decay': .04,  # T_z = 25, lambda = e^(-1/T_z)\n",
    "        \"punish_mult\": 1,\n",
    "\n",
    "        'processing_time': PROCESSING_TIME,\n",
    "        'learning_rate': .625 / 25,  # gamma_0 = gamma / Tau_z\n",
    "        'max_weight': 5,\n",
    "        'stdp_window': 20,  # Tau_+ = Tau_- = 20ms\n",
    "        'action_threshold': 0,  # Makes network always output True\n",
    "\n",
    "        'continuous_rwd_action': lambda network, game: network.spike_log[-1, -1],\n",
    "        'state_rate_map': state_rate_map,\n",
    "    }"
   ]
  },
  {
   "cell_type": "code",
   "execution_count": 8,
   "metadata": {},
   "outputs": [
    {
     "output_type": "stream",
     "name": "stdout",
     "text": [
      "(False, False): 0.00 -> 0.15\n(False, True): 0.04 -> 0.15\n(True, False): 0.04 -> 0.16\n(True, True): 0.08 -> 0.14\n362 -> 362\n6 -> 6\n0.1495 0.1528\nFlorian - Win: False, Accuracy: 0.56\n12.37s\n"
     ]
    }
   ],
   "source": [
    "# Control, without learning\n",
    "training_loop = GenericLoop(network_template, Logic(preset=\"XOR\"), measure_rates=True, **training_params)\n",
    "training_loop.reset(**{'learning_rate': 0, 'len_episode': 50})\n",
    "e_output = training_loop()\n",
    "\n",
    "callback = training_loop.callback\n",
    "print_rates(callback=callback)\n",
    "print_w_diffs(callback, training_params, layer_cutoff=None)\n",
    "print_success(callback, training_params)\n",
    "print_runtime(callback)"
   ]
  },
  {
   "cell_type": "code",
   "execution_count": 9,
   "metadata": {},
   "outputs": [
    {
     "output_type": "stream",
     "name": "stdout",
     "text": [
      "(False, False): 0.00 -> 0.20\n(False, True): 0.04 -> 0.40\n(True, False): 0.04 -> 0.39\n(True, True): 0.08 -> 0.22\n362 -> 7505\n6 -> 295\n0.449 0.2194\nFlorian - Win: True, Accuracy: 0.66\n197.17s\n"
     ]
    }
   ],
   "source": [
    "# Real experiment\n",
    "training_loop = GenericLoop(network_template, Logic(preset=\"XOR\"), measure_rates=True, **training_params)\n",
    "e_output = training_loop()\n",
    "\n",
    "callback = training_loop.callback\n",
    "print_rates(callback=callback)\n",
    "print_w_diffs(callback, training_params, layer_cutoff=None)\n",
    "print_success(callback, training_params)\n",
    "print_runtime(callback)"
   ]
  },
  {
   "source": [
    "## Temporal Coding\n",
    "\n",
    "The goal of this experiment is to train a spiking neural network to mimic a XOR gate, meaning it will take two binary inputs and return one binary output. The desired input output mapping is as follows,\n",
    "```\n",
    "0, 0 -> 0\n",
    "0, 1 -> 1\n",
    "1, 0 -> 1\n",
    "1, 1 -> 0\n",
    "```\n",
    "In this specific experiment the inputs are temporal coded. There are two input groups, corresponding to the two boolean inputs. Each input value, 0 or 1, has a static spike train that is shared between input groups and is triggered whenever that input value is used. There should be 60 input neurons(30 per group), 60 hidden and 1 output neuron with each layer fully connected to the next. Each input pattern would be presented to the network for 500ms, with 800 patterns being shown in total. While a pattern is being shown, if the correct output is 1, whenever the network's output neuron fires it recieves a reward of 1. Otherwise when the network's output fires it recieves a reward of -1.\n",
    "\n",
    "Converting this description for use in the framework is straightforward, but if it's your first time(s) needs a frame of reference.\n",
    "\n",
    "1. Divide experiment into network and game mechanics.\n",
    "Splitting the mechanics of the network and game here are simple, the game simply gives two random boolean inputs at every timestep and the network respond to these inputs.\n",
    "\n",
    "2. Set up network inputs.\n",
    "Here we used temporally coded inputs, each input value, 0 or 1, corresponds to a static spike train that is shared between input groups. Each time the input value is given the spike train is shown by all neurons in the input group.\n",
    "We accomplish this using the StaticMap input type. This works similarly to the RateMap used before, in that we give it an input value to spike train mapping. This can be done on a per input or an aggregate basis, here we do in aggregate for readability.\n",
    "```\n",
    "LOW_TRAIN = np.int_(np.random.uniform(0, 1, (PROCESSING_TIME, N_INPUTS // 2)) <= 50 * .0001)\n",
    "HIGH_TRAIN = np.int_(np.random.uniform(0, 1, (PROCESSING_TIME, N_INPUTS // 2)) <= 50 * .0001)\n",
    "input_map = {\n",
    "    (0, 0): np.hstack((LOW_TRAIN, LOW_TRAIN)),\n",
    "    (0, 1): np.hstack((LOW_TRAIN, HIGH_TRAIN)),\n",
    "    (1, 0): np.hstack((HIGH_TRAIN, LOW_TRAIN)),\n",
    "    (1, 1): np.hstack((HIGH_TRAIN, HIGH_TRAIN)),\n",
    "}\n",
    "```\n",
    "\n",
    "3. Set topology of network.\n",
    "For this we use a manually configured network. We give it one matrix for each layer: the input-hidden and hidden-output layers.\n",
    "Each initial weight value is sampled uniformly between 0 and .2, with these parameters chosen by trial and error.\n",
    "```\n",
    "w_matrix = [\n",
    "    np.random.uniform(0, .2, (N_INPUTS, N_HIDDEN)),\n",
    "    np.random.uniform(0, .2, (N_HIDDEN, N_OUTPUTS)),\n",
    "]\n",
    "```\n",
    "\n",
    "4. Set reward scheme and network readout.\n",
    "This is typically the most complex part of constructing an experiment with spikey, and this example is no different.\n",
    "Here we use the ActiveRLNetwork base so that our reward function is called at every network update, whereas RLNetwork calls the reward every game step, or every PROCESSING_TIME network steps.\n",
    "In conjunction we use the parameter continuous_rwd_action in place of the Readout part since the Readout is only meant to apply at every game step. continuous_rwd_action will tell the rewarder whether or not the output neuron fired via the action paramterer.\n",
    "Finally we use the custom Florian rewarder(defined in the cell above) that functions exactly as the original experiment states. If the expected action is one, a reward is given on every output spike. Otherwise a punishment is given on every output spike.\n",
    "\n",
    "5. Set other parameters.\n",
    "Most of the other parameters are taken directly from the paper or are intuitively chosen.\n"
   ],
   "cell_type": "markdown",
   "metadata": {}
  },
  {
   "cell_type": "code",
   "execution_count": 10,
   "metadata": {},
   "outputs": [],
   "source": [
    "training_params = {\n",
    "    'n_episodes': 1,\n",
    "    'len_episode': 800,\n",
    "    'eval_steps': 50,\n",
    "}"
   ]
  },
  {
   "cell_type": "code",
   "execution_count": 11,
   "metadata": {},
   "outputs": [],
   "source": [
    "N_INPUTS = 2\n",
    "N_NEURONS = 21\n",
    "N_OUTPUTS = 1\n",
    "N_HIDDEN = N_NEURONS - N_OUTPUTS\n",
    "PROCESSING_TIME = 500\n",
    "\n",
    "LOW_TRAIN = np.int_(np.random.uniform(0, 1, (PROCESSING_TIME, N_INPUTS // 2)) <= 50 * .0001)\n",
    "HIGH_TRAIN = np.int_(np.random.uniform(0, 1, (PROCESSING_TIME, N_INPUTS // 2)) <= 50 * .0001)\n",
    "input_map = {\n",
    "    (0, 0): np.hstack((LOW_TRAIN, LOW_TRAIN)),\n",
    "    (0, 1): np.hstack((LOW_TRAIN, HIGH_TRAIN)),\n",
    "    (1, 0): np.hstack((HIGH_TRAIN, LOW_TRAIN)),\n",
    "    (1, 1): np.hstack((HIGH_TRAIN, HIGH_TRAIN)),\n",
    "}\n",
    "\n",
    "w_matrix = [\n",
    "    np.random.uniform(0, .4, (N_INPUTS, N_HIDDEN)),\n",
    "    np.random.uniform(0, .4, (N_HIDDEN, N_OUTPUTS)),\n",
    "]\n",
    "class network_template(ActiveRLNetwork):\n",
    "    parts = {\n",
    "        'inputs': input.StaticMap,\n",
    "        'neurons': neuron.Neuron,\n",
    "        'synapses': synapse.RLSTDP,\n",
    "        'weights': weight.Manual,\n",
    "        'readout': readout.Threshold,\n",
    "        'rewarder': FlorianReward,\n",
    "    }\n",
    "    keys = {\n",
    "        \"n_inputs\": N_INPUTS,\n",
    "        'n_neurons': N_NEURONS,\n",
    "        \"n_outputs\": N_OUTPUTS,\n",
    "        'matrix': w_matrix,\n",
    "\n",
    "        'input_pct_inhibitory': .5,\n",
    "        'neuron_pct_inhibitory': 0,\n",
    "        'magnitude': 1,\n",
    "        'firing_threshold': 16,\n",
    "        'refractory_period': 0,  # Gutig, Aharonov, Rotter, & Sompolinsky 2003\n",
    "        'prob_rand_fire': .15,\n",
    "        'potential_decay': .05,  # Decay constant Tau=20ms, lambda=e^(-t/T)\n",
    "        'trace_decay': .04,  # T_z = 25, lambda = e^(-1/T_z)\n",
    "        \"punish_mult\": 1,\n",
    "\n",
    "        'processing_time': PROCESSING_TIME,\n",
    "        'learning_rate': .25 / 25,  # gamma_0 = gamma / Tau_z\n",
    "        'max_weight': 5,\n",
    "        'stdp_window': 20,  # Tau_+ = Tau_- = 20ms\n",
    "        'action_threshold': 0,  # Makes network always output True\n",
    "\n",
    "        'continuous_rwd_action': lambda network, game: network.spike_log[-1, -1],\n",
    "        'state_spike_map': input_map,\n",
    "    }"
   ]
  },
  {
   "cell_type": "code",
   "execution_count": 12,
   "metadata": {},
   "outputs": [
    {
     "output_type": "stream",
     "name": "stdout",
     "text": [
      "(False, False): 0.00 -> 0.15\n(False, True): 0.00 -> 0.15\n(True, False): 0.00 -> 0.15\n(True, True): 0.00 -> 0.14\n1 -> 1\n11 -> 11\n0.1482 0.1533\nFlorian - Win: False, Accuracy: 0.5\n7.19s\n"
     ]
    }
   ],
   "source": [
    "# Control, without learning\n",
    "training_loop = GenericLoop(network_template, Logic(preset=\"XOR\"), measure_rates=True, **training_params)\n",
    "training_loop.reset(**{'learning_rate': 0, 'len_episode': 50})\n",
    "e_output = training_loop()\n",
    "\n",
    "callback = training_loop.callback\n",
    "print_rates(callback=callback)\n",
    "print_w_diffs(callback, training_params, layer_cutoff=None)\n",
    "print_success(callback, training_params)\n",
    "print_runtime(callback)"
   ]
  },
  {
   "cell_type": "code",
   "execution_count": 13,
   "metadata": {},
   "outputs": [
    {
     "output_type": "stream",
     "name": "stdout",
     "text": [
      "(False, False): 0.00 -> 0.23\n(False, True): 0.00 -> 0.32\n(True, False): 0.00 -> 0.33\n(True, True): 0.00 -> 0.21\n1 -> 0\n11 -> 113\n0.2168 0.171\nFlorian - Win: True, Accuracy: 0.7\n128.81s\n"
     ]
    }
   ],
   "source": [
    "# Real experiment\n",
    "training_loop = GenericLoop(network_template, Logic(preset=\"XOR\"), measure_rates=True, **training_params)\n",
    "e_output = training_loop()\n",
    "\n",
    "callback = training_loop.callback\n",
    "print_rates(callback=callback)\n",
    "print_w_diffs(callback, training_params, layer_cutoff=None)\n",
    "print_success(callback, training_params)\n",
    "print_runtime(callback)"
   ]
  },
  {
   "cell_type": "code",
   "execution_count": null,
   "metadata": {},
   "outputs": [],
   "source": []
  }
 ]
}